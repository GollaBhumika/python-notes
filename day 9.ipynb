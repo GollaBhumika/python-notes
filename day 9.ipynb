{
  "nbformat": 4,
  "nbformat_minor": 0,
  "metadata": {
    "colab": {
      "private_outputs": true,
      "provenance": []
    },
    "kernelspec": {
      "name": "python3",
      "display_name": "Python 3"
    },
    "language_info": {
      "name": "python"
    }
  },
  "cells": [
    {
      "cell_type": "code",
      "execution_count": null,
      "metadata": {
        "id": "5slsWkyQdTJl"
      },
      "outputs": [],
      "source": [
        "l=[1,2,3,4,4,5,7]\n",
        "# use user defined function find the list of elements print even values write a program implent try exception block statemnt"
      ]
    },
    {
      "cell_type": "code",
      "source": [
        "#swap two variables\n",
        "a=2\n",
        "b=3"
      ],
      "metadata": {
        "id": "uzLmkCa7m43H"
      },
      "execution_count": null,
      "outputs": []
    },
    {
      "cell_type": "code",
      "source": [
        "#method : using third varibale"
      ],
      "metadata": {
        "id": "GQcFQ0nvnWLJ"
      },
      "execution_count": null,
      "outputs": []
    },
    {
      "cell_type": "code",
      "source": [
        "c=a\n",
        "a=b\n",
        "b=c"
      ],
      "metadata": {
        "id": "0q56EGerncUL"
      },
      "execution_count": null,
      "outputs": []
    },
    {
      "cell_type": "code",
      "source": [
        "print(\"a\", a)\n",
        "print(\"b\", b)"
      ],
      "metadata": {
        "id": "sC0XnczInPxs"
      },
      "execution_count": null,
      "outputs": []
    },
    {
      "cell_type": "code",
      "source": [
        "#method is without third variable\n",
        "a, b"
      ],
      "metadata": {
        "id": "PS9jvAcKnnss"
      },
      "execution_count": null,
      "outputs": []
    },
    {
      "cell_type": "code",
      "source": [
        "a,b=b,a"
      ],
      "metadata": {
        "id": "CxoisJubn3eD"
      },
      "execution_count": null,
      "outputs": []
    },
    {
      "cell_type": "code",
      "source": [
        "print(\"a=\",a)\n",
        "print(\"b=\",b)"
      ],
      "metadata": {
        "id": "JkwPEClToEXo"
      },
      "execution_count": null,
      "outputs": []
    },
    {
      "cell_type": "code",
      "source": [
        "l=[1,7,8,4,6,5,7]"
      ],
      "metadata": {
        "id": "cLVD56YQoNyO"
      },
      "execution_count": null,
      "outputs": []
    },
    {
      "cell_type": "code",
      "source": [
        "sorted(l)"
      ],
      "metadata": {
        "id": "hEr0Zxoooecw"
      },
      "execution_count": null,
      "outputs": []
    },
    {
      "cell_type": "code",
      "source": [
        "l.sort()"
      ],
      "metadata": {
        "id": "LMIv7FvMog_E"
      },
      "execution_count": null,
      "outputs": []
    },
    {
      "cell_type": "code",
      "source": [
        "l"
      ],
      "metadata": {
        "id": "rn-lO7RGonUg"
      },
      "execution_count": null,
      "outputs": []
    },
    {
      "cell_type": "code",
      "source": [
        "l"
      ],
      "metadata": {
        "id": "s9vcXFSeoocT"
      },
      "execution_count": null,
      "outputs": []
    },
    {
      "cell_type": "markdown",
      "source": [
        "expetced output is l =[1,4,5,6,7,7,8]"
      ],
      "metadata": {
        "id": "8zH-ehnjqQoL"
      }
    },
    {
      "cell_type": "code",
      "source": [
        "#Method: 1"
      ],
      "metadata": {
        "id": "ul9QB8LMrmZd"
      },
      "execution_count": null,
      "outputs": []
    },
    {
      "cell_type": "code",
      "source": [
        "for i in range(len(l)):\n",
        "    i=min(l)# 1\n",
        "    ls.append(i)\n",
        "    l.remove(i)\n",
        "print(ls)\n",
        "print(l)"
      ],
      "metadata": {
        "id": "sQNL-Gx2o3uS"
      },
      "execution_count": null,
      "outputs": []
    },
    {
      "cell_type": "code",
      "source": [
        "#remove duplicate in list\n",
        "lst1=[1,7,8,4,6,5,7]"
      ],
      "metadata": {
        "id": "e_TdAwcCFbdm"
      },
      "execution_count": null,
      "outputs": []
    },
    {
      "cell_type": "code",
      "source": [
        "lst1"
      ],
      "metadata": {
        "id": "wDTWCksiFht_"
      },
      "execution_count": null,
      "outputs": []
    },
    {
      "cell_type": "code",
      "source": [
        "#use user defined function\n"
      ],
      "metadata": {
        "id": "przuiqqRFuDW"
      },
      "execution_count": null,
      "outputs": []
    },
    {
      "cell_type": "code",
      "source": [
        "set(lst1)"
      ],
      "metadata": {
        "id": "_OebLGopIXlq"
      },
      "execution_count": null,
      "outputs": []
    },
    {
      "cell_type": "code",
      "source": [
        "def remove_duplicate(l):\n",
        "    lst=[]\n",
        "    for i in l:\n",
        "        if i not in lst:\n",
        "            lst.append(i)\n",
        "    print(lst)\n",
        "l=[1,7,8,4,6,5,7]\n",
        "remove_duplicate(l)\n",
        "d=[12,3,3,32,4,45]\n",
        "remove_duplicate(d)"
      ],
      "metadata": {
        "id": "6Aos4KrBIcgS"
      },
      "execution_count": null,
      "outputs": []
    },
    {
      "cell_type": "code",
      "source": [],
      "metadata": {
        "id": "8FR3ODfYLYrJ"
      },
      "execution_count": null,
      "outputs": []
    },
    {
      "cell_type": "code",
      "source": [
        "def duplicates(L):\n",
        "    ls = []\n",
        "    for i in L:\n",
        "        if L.count(i) > 1:\n",
        "            L.remove(i)\n",
        "    ls = L[:]\n",
        "    return ls\n",
        "\n",
        "L = [1,7,8,4,6,5,7]\n",
        "outp = duplicates(L)\n",
        "print(outp)\n"
      ],
      "metadata": {
        "id": "_BkUCbS8J9oA"
      },
      "execution_count": null,
      "outputs": []
    },
    {
      "cell_type": "code",
      "source": [
        "l=[1,7,8,4,6,5,7]\n",
        "lst=[]\n",
        "for i in l:\n",
        "    if i not in lst:\n",
        "        lst.append(i)\n",
        "print(lst)"
      ],
      "metadata": {
        "id": "soLgPX-IKkXq"
      },
      "execution_count": null,
      "outputs": []
    },
    {
      "cell_type": "code",
      "source": [],
      "metadata": {
        "id": "MOmTH9ucKuRD"
      },
      "execution_count": null,
      "outputs": []
    }
  ]
}