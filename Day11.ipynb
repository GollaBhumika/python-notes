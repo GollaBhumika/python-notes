{
  "nbformat": 4,
  "nbformat_minor": 0,
  "metadata": {
    "colab": {
      "private_outputs": true,
      "provenance": []
    },
    "kernelspec": {
      "name": "python3",
      "display_name": "Python 3"
    },
    "language_info": {
      "name": "python"
    }
  },
  "cells": [
    {
      "cell_type": "code",
      "source": [
        "#instance\n",
        "#class or static variable\n"
      ],
      "metadata": {
        "id": "aTyGJ6hh0vkj"
      },
      "execution_count": null,
      "outputs": []
    },
    {
      "cell_type": "code",
      "source": [
        "#instance method we can change class and instance varibale\n",
        "#class method we can access only class varibale\n",
        "#static method"
      ],
      "metadata": {
        "id": "GxnuMmBLViUC"
      },
      "execution_count": null,
      "outputs": []
    },
    {
      "cell_type": "code",
      "source": [
        "class Class:\n",
        "\n",
        "    def __init__(self, a):\n",
        "        self.a=a\n",
        "    def set_variable(self,b):\n",
        "        self.a=b\n",
        "    def get_variable(self):\n",
        "        print(self.a)\n",
        "obj=Class(1)\n",
        "print(obj.get_variable()) #output 1\n"
      ],
      "metadata": {
        "id": "n6szvu_KWTex"
      },
      "execution_count": null,
      "outputs": []
    },
    {
      "cell_type": "code",
      "source": [
        "class Class:\n",
        "\n",
        "    def __init__(self, a):\n",
        "        self.a=a\n",
        "    def set_variable(self,b):\n",
        "        self.a=b\n",
        "    def get_variable(self):\n",
        "        print(self.a)\n",
        "obj=Class(1)\n",
        "print(obj.get_variable()) #output 1\n",
        "obj.set_variable(2)\n",
        "print(obj.get_variable())"
      ],
      "metadata": {
        "id": "AQV6alhDV46N"
      },
      "execution_count": null,
      "outputs": []
    },
    {
      "cell_type": "code",
      "source": [
        "class Class:\n",
        "    a=10#class variable\n",
        "    def __init__(self, b):\n",
        "        self.b=b#instance varible\n",
        "    @classmethod\n",
        "    def set_instance_varaible(cls, new_value, self):#this method is setting new instance variable\n",
        "        self.b=new_value#new instance value\n",
        "    @classmethod\n",
        "    def set_class_variable(cls,new_value): #this method is setting new Class variable\n",
        "        cls.a=new_value#new class value\n",
        "obj1=Class(30)\n",
        "obj2=Class(20)\n",
        "#access all instance and class varibales initil values\n",
        "print(\"initila value\")\n",
        "print(\"obj1 instance variable \",obj1.b)\n",
        "print(\"obj2 instance variable \",obj2.b)\n",
        "print(\"obj2 Class variable \",Class.a)\n",
        "#use class method to modify instance varibale\n",
        "Class.set_instance_varaible(40,obj1)\n",
        "Class.set_instance_varaible(50,obj2)\n",
        "#use class method to modify class varibale\n",
        "Class.set_class_variable(50)\n",
        "#access and print the new value\n",
        "print(\"new_values\")\n",
        "print(\"obj1 instance variable \",obj1.b)\n",
        "print(\"obj2 instance variable \",obj2.b)\n",
        "print(\"obj2 Class variable \",Class.a)"
      ],
      "metadata": {
        "id": "08QN-c3PYID2"
      },
      "execution_count": null,
      "outputs": []
    },
    {
      "cell_type": "code",
      "source": [
        "#class inside class\n",
        "class Student:\n",
        "    def __init__(self, name, age):\n",
        "        self.name=name\n",
        "        self.age=age\n",
        "\n",
        "obj1=Student(\"ganesh\",30)\n",
        "obj2=Student(\"jathin\",2)\n",
        "print(obj1.name, obj1.age)\n"
      ],
      "metadata": {
        "id": "ZNF4pZACcew2"
      },
      "execution_count": null,
      "outputs": []
    },
    {
      "cell_type": "code",
      "source": [
        "#class inside class\n",
        "class Student:\n",
        "    def __init__(self, name, age):\n",
        "        self.name=name\n",
        "        self.age=age\n",
        "    def show(self):\n",
        "        print(self.name, self.age)\n",
        "\n",
        "obj1=Student(\"ganesh\",30)\n",
        "obj2=Student(\"jathin\",2)\n",
        "#print(obj1.name, obj1.age)\n",
        "obj1.show()"
      ],
      "metadata": {
        "id": "rpEG3MESl_FL"
      },
      "execution_count": null,
      "outputs": []
    },
    {
      "cell_type": "markdown",
      "source": [
        "class inside class"
      ],
      "metadata": {
        "id": "rCZBA21hrZO-"
      }
    },
    {
      "cell_type": "code",
      "source": [
        "class Student:#outer class\n",
        "    def __init__(self, name, age):\n",
        "        self.name=name\n",
        "        self.age=age\n",
        "    def show(self):\n",
        "        print(self.name, self.age)\n",
        "    class Computer:# inner class\n",
        "        def __init__(self,model, cpu, ram):\n",
        "            self.model=model\n",
        "            self.cpu=cpu\n",
        "            self.ram=ram\n",
        "        def show(self):\n",
        "            print(self.model, self.cpu, self.ram)\n",
        "studt1=Student(\"ganesh\",30)\n",
        "studt2=Student(\"jathin\",2)\n",
        "studt1.show()\n",
        "studt2.show()\n",
        "lap1=Student.Computer(\"dell\",\"i5\",8)\n",
        "lap2=Student.Computer(\"hp\",\"i7\",16)\n",
        "lap1.show()\n",
        "lap2.show()"
      ],
      "metadata": {
        "id": "ceq68H4PliY6"
      },
      "execution_count": null,
      "outputs": []
    },
    {
      "cell_type": "code",
      "source": [
        "#inheritance\n",
        "class A:\n",
        "    def feature1(self):\n",
        "        print(\"this is called f1\")\n",
        "    def feature2(self):\n",
        "        print(\"this is called f2\")\n",
        "obj1=A()\n",
        "obj1.feature1()\n",
        "obj1.feature2()"
      ],
      "metadata": {
        "id": "G9slDdw5m76H"
      },
      "execution_count": null,
      "outputs": []
    },
    {
      "cell_type": "code",
      "source": [
        "#types of inheritnace\n",
        "1. single level\n",
        "2. Multiple\n",
        "3. multi level\n",
        "4. Hiearachrical\n",
        "5. Hybrid"
      ],
      "metadata": {
        "id": "AiV8AmQGtazD"
      },
      "execution_count": null,
      "outputs": []
    },
    {
      "cell_type": "code",
      "source": [
        "#1. single level"
      ],
      "metadata": {
        "id": "-QZRJoHWulm3"
      },
      "execution_count": null,
      "outputs": []
    },
    {
      "cell_type": "code",
      "source": [
        "class Parent:#Super class (or) base class (or) parent\n",
        "    def method1(self):\n",
        "        print(\"iam father\")\n",
        "class Child(Parent):#sub class (or) child (or) derived\n",
        "    def method2(self):\n",
        "        print(\"i am child\")\n",
        "child=Child()\n",
        "child.method1()\n",
        "child.method2()\n",
        "parent=Parent()\n",
        "parent.method1()"
      ],
      "metadata": {
        "id": "ZRfwzusIu5Xn"
      },
      "execution_count": null,
      "outputs": []
    },
    {
      "cell_type": "code",
      "source": [
        "#2. Multiple\n",
        "class Father:\n",
        "    def method1(self):\n",
        "        print(\"iam father\")\n",
        "class Mother:\n",
        "    def method2(self):\n",
        "        print(\"i am mother\")\n",
        "class Child(Father, Mother):#sub class (or) child (or) derived\n",
        "    def method3(self):\n",
        "        print(\"i am child\")\n",
        "child=Child()\n",
        "child.method1()\n",
        "child.method2()\n",
        "child.method3()\n",
        "print(Child.__mro__)"
      ],
      "metadata": {
        "id": "z6B69DPzvvP8"
      },
      "execution_count": null,
      "outputs": []
    },
    {
      "cell_type": "code",
      "source": [
        "#MRO: Method resolution order Child(Father, Mother) (<class '__main__.Child'>, <class '__main__.Father'>, <class '__main__.Mother'>, <class 'object'>)\n"
      ],
      "metadata": {
        "id": "1Nof0OVvyPb3"
      },
      "execution_count": null,
      "outputs": []
    },
    {
      "cell_type": "code",
      "source": [
        "#multi level"
      ],
      "metadata": {
        "id": "ESZbysU5xKap"
      },
      "execution_count": null,
      "outputs": []
    },
    {
      "cell_type": "code",
      "source": [
        "class GrandParent:\n",
        "    def method1(self):\n",
        "        print(\"iam grandParent\")\n",
        "class Parent(GrandParent):\n",
        "    def method2(self):\n",
        "        print(\"i am parent\")\n",
        "class Child(Parent):#sub class (or) child (or) derived\n",
        "    def method3(self):\n",
        "        print(\"i am child\")\n",
        "child=Child()\n",
        "child.method1()\n",
        "child.method2()\n",
        "child.method3()"
      ],
      "metadata": {
        "id": "bxltPEeiyqid"
      },
      "execution_count": null,
      "outputs": []
    },
    {
      "cell_type": "code",
      "source": [
        "#hierarchical"
      ],
      "metadata": {
        "id": "t36j56Y_0KnO"
      },
      "execution_count": null,
      "outputs": []
    },
    {
      "cell_type": "code",
      "source": [
        "class Parent:\n",
        "    def parentmethod(self):\n",
        "        print(\"i am Parent\")\n",
        "class Child1(Parent):\n",
        "    def childmethod1(self):\n",
        "        print(\"i am child1\")\n",
        "class Child2(parent):\n",
        "    def childmethod2(self):\n",
        "        print(\"i am child2\")\n",
        "child1=Child1()\n",
        "child1.childmethod1()\n",
        "child1.parentmethod()\n",
        "child2=Child2()\n",
        "child2.childmethod2()\n",
        "child1.parentmethod()"
      ],
      "metadata": {
        "id": "TcY_LuYW0Uiw"
      },
      "execution_count": null,
      "outputs": []
    },
    {
      "cell_type": "code",
      "source": [
        "#hybrid\n",
        "class GrandParent:\n",
        "    def method1(self):\n",
        "        print(\"iam a Grand parent\")\n",
        "class Parent1(GrandParent):\n",
        "    def parentmethod1(self):\n",
        "        print(\"i am Parent1\")\n",
        "class Parent2:\n",
        "    def Parentmethod2(self):\n",
        "        print(\"i am Parent2\")\n",
        "class Child(Parent1,Parent2):\n",
        "    def childmethod(self):\n",
        "        print(\"i am child\")\n",
        "child=Child()\n",
        "child.childmethod()\n",
        "child.Parentmethod2()\n"
      ],
      "metadata": {
        "id": "E1KXfrmM1gVu"
      },
      "execution_count": null,
      "outputs": []
    },
    {
      "cell_type": "code",
      "source": [],
      "metadata": {
        "id": "5iUYFPER3Aha"
      },
      "execution_count": null,
      "outputs": []
    }
  ]
}