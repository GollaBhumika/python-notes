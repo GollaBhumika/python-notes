{
  "nbformat": 4,
  "nbformat_minor": 0,
  "metadata": {
    "colab": {
      "private_outputs": true,
      "provenance": []
    },
    "kernelspec": {
      "name": "python3",
      "display_name": "Python 3"
    },
    "language_info": {
      "name": "python"
    }
  },
  "cells": [
    {
      "cell_type": "code",
      "source": [
        "#method overrriding\n",
        "1. super class and suclass must be present.\n",
        "2. declare two classes with same method & same pararmeters."
      ],
      "metadata": {
        "id": "CzMW3ADN8lqB"
      },
      "execution_count": null,
      "outputs": []
    },
    {
      "cell_type": "code",
      "source": [
        "class Parent:\n",
        "    def method(self):\n",
        "        print(\"this is parent method\")\n",
        "class Child(Parent):\n",
        "    def method(self):\n",
        "        print(\"this is child method\")\n",
        "obj1= Child()\n",
        "obj1.method()\n",
        "obj2= Parent()\n",
        "obj2.method()\n"
      ],
      "metadata": {
        "id": "FlY7pDzE-HrJ"
      },
      "execution_count": null,
      "outputs": []
    },
    {
      "cell_type": "code",
      "source": [
        "class GrandParent:\n",
        "    def method(self):\n",
        "        print(\"this is Grant Parent\")\n",
        "class Parent(GrandParent):\n",
        "    def method(self):\n",
        "        print(\"this is parent method\")\n",
        "class Child(Parent):\n",
        "    def method(self):\n",
        "        print(\"this is child method\")\n",
        "obj1= Child()\n",
        "obj1.method()\n",
        "obj2= Parent()\n",
        "obj2.method()\n",
        "obj3= GrandParent()\n",
        "obj3.method()"
      ],
      "metadata": {
        "id": "6cJXtZyg_D0N"
      },
      "execution_count": null,
      "outputs": []
    },
    {
      "cell_type": "code",
      "source": [
        "class Parent1:\n",
        "    def method(self):\n",
        "        print(\"this is Parent2\")\n",
        "class Parent2:\n",
        "    def method(self):\n",
        "        print(\"this is parent1 method\")\n",
        "class Child(Parent1, Parent2): #MRO\n",
        "    def method(self):\n",
        "        print(\"this is child method\")\n",
        "obj1= Child()\n",
        "obj1.method()\n"
      ],
      "metadata": {
        "id": "6Si1WTXg_rb9"
      },
      "execution_count": null,
      "outputs": []
    },
    {
      "cell_type": "code",
      "source": [
        "#same way method ovverride init method also"
      ],
      "metadata": {
        "id": "LH9maA0VADDS"
      },
      "execution_count": null,
      "outputs": []
    },
    {
      "cell_type": "code",
      "source": [
        "class Parent:\n",
        "    def __init__(self):\n",
        "        print(\"this is Parent\")\n",
        "class Child:\n",
        "    def __init__(self):\n",
        "        print(\"this is child method\")\n",
        "\n",
        "obj1= Child()"
      ],
      "metadata": {
        "id": "38lVZ4fy_g7z"
      },
      "execution_count": null,
      "outputs": []
    },
    {
      "cell_type": "code",
      "source": [
        "class Parent:\n",
        "    def method(self):\n",
        "        print(\"this is parent method\")\n",
        "class Child(Parent):\n",
        "    def method(self):\n",
        "        Parent.method(self)\n",
        "        print(\"this is child method\")\n",
        "obj1= Child()\n",
        "obj1.method()"
      ],
      "metadata": {
        "id": "uLb4Fm13AjmK"
      },
      "execution_count": null,
      "outputs": []
    },
    {
      "cell_type": "code",
      "source": [
        "class Parent:\n",
        "    def method(self):\n",
        "        print(\"this is parent method\")\n",
        "class Child(Parent):\n",
        "    def method(self):\n",
        "        super().method()\n",
        "        print(\"this is child method\")\n",
        "obj1= Child()\n",
        "obj1.method()"
      ],
      "metadata": {
        "id": "OrbUxLYKA1gP"
      },
      "execution_count": null,
      "outputs": []
    },
    {
      "cell_type": "code",
      "source": [
        "class A:\n",
        "    def method(self):\n",
        "        print(\"this is class A\")\n",
        "class B:\n",
        "    def method(self):\n",
        "        print(\"this is class B\")\n",
        "class C:\n",
        "    def method(self):\n",
        "        print(\"this is class C\")\n",
        "def add(obj):\n",
        "    obj.method()\n",
        "obj1= A()\n",
        "obj2= B()\n",
        "obj3= C()\n",
        "add(obj1)\n",
        "add(obj2)\n",
        "add(obj3)"
      ],
      "metadata": {
        "id": "sLiJEJgHBkop"
      },
      "execution_count": null,
      "outputs": []
    },
    {
      "cell_type": "code",
      "source": [
        "class GrandParent:\n",
        "    def method(self):\n",
        "        print(\"this is Grandparent method\")\n",
        "class Parent(GrandParent):\n",
        "    def method(self):\n",
        "        super().method()\n",
        "        print(\"this is parent method\")\n",
        "class Child(GrandParent):\n",
        "    def method(self):\n",
        "        super().method()\n",
        "        print(\"this is child method\")\n",
        "obj1= Child()\n",
        "obj1.method()"
      ],
      "metadata": {
        "id": "11OjAUo2DIe4"
      },
      "execution_count": null,
      "outputs": []
    },
    {
      "cell_type": "code",
      "source": [
        "#encapsulation\n",
        "1. hides implementation logic allows only to use.\n",
        "2. combining related things\n",
        "3. set of things to group.\n",
        "4. code will be oraganized and cleaned\n",
        "5. it prevents the data from accidental removal and deetion.\n",
        "6. data hiding\n",
        "7. wraping the related information\n",
        "8. code more modularity(invidual)"
      ],
      "metadata": {
        "id": "n21VeAuGD9Fv"
      },
      "execution_count": null,
      "outputs": []
    },
    {
      "cell_type": "code",
      "source": [
        "encapsulation = data hiding + abstraction"
      ],
      "metadata": {
        "id": "YTtLDvbuGR1Q"
      },
      "execution_count": null,
      "outputs": []
    },
    {
      "cell_type": "code",
      "source": [
        "#access modifier:\n",
        "1. public #car=\"BMW\", ram=10\n",
        "2. Private# __\n",
        "3. protected #_\n"
      ],
      "metadata": {
        "id": "wSdy6SEaGa_y"
      },
      "execution_count": null,
      "outputs": []
    },
    {
      "cell_type": "code",
      "source": [
        "class Car:\n",
        "    def __init__(self):\n",
        "        self.brand()\n",
        "    def drive(self):\n",
        "        print(\"driving\")\n",
        "    def __brand(self): #private method\n",
        "        print(\"my car bmw\")\n",
        "car=Car()\n",
        "car.drive()\n",
        "#we can't call outside class whenever it is private method or private variable"
      ],
      "metadata": {
        "id": "ja88YE7nHHAu"
      },
      "execution_count": null,
      "outputs": []
    },
    {
      "cell_type": "code",
      "source": [
        "class Car:\n",
        "    __max_speed=250 #class varibale(private variables)\n",
        "    __name=\"BMW\"\n",
        "    def __init__(self):\n",
        "        self.__max_speed=200\n",
        "        self.__name=\"bmw9\"\n",
        "    def drive(self):\n",
        "        print(\"driving\")\n",
        "        print(self.__max_speed)\n",
        "    def setspeed(self,speed):\n",
        "        self.__max__speed=speed\n",
        "        print(self.__max__speed)\n",
        "car=Car()\n",
        "car.drive()\n",
        "car.setspeed(100)"
      ],
      "metadata": {
        "id": "Is-RTNUNI083"
      },
      "execution_count": null,
      "outputs": []
    },
    {
      "cell_type": "code",
      "source": [
        "class Car:\n",
        "    __max_speed=250 #class varibale(private variables) static variable\n",
        "    __name=\"BMW\"\n",
        "    def __init__(self):\n",
        "        self.__max_speed=200\n",
        "        self.__name=\"bmw9\"\n",
        "    def get_method(self):# get method\n",
        "        print(\"driving\")\n",
        "        print(self.__max_speed)\n",
        "    def set_method(self,speed):\n",
        "        self.__max__speed=speed\n",
        "        print(self.__max__speed)\n",
        "car=Car()\n",
        "car.get_method()\n",
        "car.__max__speed=100"
      ],
      "metadata": {
        "id": "s5MVO3OLKNYt"
      },
      "execution_count": null,
      "outputs": []
    },
    {
      "cell_type": "code",
      "source": [
        "class Car:\n",
        "    _max_speed=250 #class varibale(potected variables) static variable\n",
        "    _name=\"BMW\"\n",
        "    def __init__(self):\n",
        "        self._max_speed=200\n",
        "        self._name=\"bmw9\"\n",
        "    def get_method(self):# get method\n",
        "        print(\"driving\")\n",
        "        print(self._max_speed)\n",
        "    def set_method(self,speed):\n",
        "        self._max_speed=speed\n",
        "        print(self._max_speed)\n",
        "car=Car()\n",
        "car._max_speed=100\n",
        "car.get_method()"
      ],
      "metadata": {
        "id": "iKVRmu-QKeMF"
      },
      "execution_count": null,
      "outputs": []
    },
    {
      "cell_type": "code",
      "source": [
        "class Car:\n",
        "    max_speed=250 #class varibale(public variables) static variable\n",
        "    name=\"BMW\"\n",
        "    def __init__(self):\n",
        "        self.max_speed=200\n",
        "        self.name=\"bmw9\"\n",
        "    def get_method(self):# get method\n",
        "        print(\"driving\")\n",
        "        print(self.max_speed)\n",
        "    def set_method(self,speed):\n",
        "        self.maxspeed=speed\n",
        "        print(self.max_speed)\n",
        "car=Car()\n",
        "car.max_speed=100\n",
        "car.get_method()"
      ],
      "metadata": {
        "id": "2q0hEF--M0zO"
      },
      "execution_count": null,
      "outputs": []
    },
    {
      "cell_type": "code",
      "source": [
        "# program to illustrate public access modifier in a class\n",
        "\n",
        "class Geek:\n",
        "\n",
        "\t# constructor\n",
        "\tdef __init__(self, name, age):\n",
        "\n",
        "\t\t# public data members\n",
        "\t\tself.geekName = name\n",
        "\t\tself.geekAge = age\n",
        "\n",
        "\t# public member function\n",
        "\tdef displayAge(self):\n",
        "\n",
        "\t\t# accessing public data member\n",
        "\t\tprint(\"Age: \", self.geekAge)\n",
        "\n",
        "# creating object of the class\n",
        "obj = Geek(\"R2J\", 20)\n",
        "\n",
        "# accessing public data member\n",
        "print(\"Name: \", obj.geekName)\n",
        "\n",
        "# calling public member function of the class\n",
        "obj.displayAge()\n"
      ],
      "metadata": {
        "id": "VLCTjsZ-NlTW"
      },
      "execution_count": null,
      "outputs": []
    },
    {
      "cell_type": "code",
      "source": [
        "class Parent:\n",
        "\tvar1 = None #public #class varibles\n",
        "\t_var2 = None #protected\n",
        "\t__var3 = None #private\n",
        "\tdef __init__(self, var1, var2, var3):\n",
        "\t\tself.var1 = var1 #instace varibales\n",
        "\t\tself._var2 = var2\n",
        "\t\tself.__var3 = var3\n",
        "\tdef displayPublicMembers(self):\n",
        "\t\tprint(\"Public Data Member: \", self.var1)\n",
        "\tdef _displayProtectedMembers(self):\n",
        "\t\tprint(\"Protected Data Member: \", self._var2)\n",
        "\tdef __displayPrivateMembers(self):\n",
        "\t\tprint(\"Private Data Member: \", self.__var3)\n",
        "\tdef accessPrivateMembers(self):\n",
        "\t\tself.__displayPrivateMembers()\n",
        "class Child(Parent):\n",
        "\tdef __init__(self, var1, var2, var3):\n",
        "\t\t\t\tParent.__init__(self, var1, var2, var3)\n",
        "\tdef accessProtectedMembers(self):\n",
        "\t\t\t\tself._displayProtectedMembers()\n",
        "obj = Child(\"Geeks\", 4, \"Geeks !\")\n",
        "obj.displayPublicMembers()\n",
        "obj.accessProtectedMembers()\n",
        "obj.accessPrivateMembers()\n",
        "print(\"Object is accessing protected member:\", obj._var2)\n"
      ],
      "metadata": {
        "id": "3ISRYE2LOKMw"
      },
      "execution_count": null,
      "outputs": []
    },
    {
      "cell_type": "code",
      "source": [
        "#Abstarction\n",
        "it won't support by default we need to install a module called ABC\n",
        "implementation is esseantial partition\n",
        "It should follws inheretance"
      ],
      "metadata": {
        "id": "hrEDa-76SYtY"
      },
      "execution_count": null,
      "outputs": []
    },
    {
      "cell_type": "code",
      "source": [
        "class Computer:\n",
        "    def process(self):\n",
        "        pass\n",
        "com =Computer()\n",
        "com.process()"
      ],
      "metadata": {
        "id": "VKPam1j_S4dy"
      },
      "execution_count": null,
      "outputs": []
    },
    {
      "cell_type": "code",
      "source": [
        "from abc import ABC, abstractmethod\n",
        "\n",
        "class Computer(ABC):\n",
        "    @abstractmethod\n",
        "    def process(self):\n",
        "        pass\n",
        "com =Computer()\n",
        "com.process()"
      ],
      "metadata": {
        "id": "YnXMceq1TIj2"
      },
      "execution_count": null,
      "outputs": []
    },
    {
      "cell_type": "code",
      "source": [
        "#we cant create object\n",
        "we use concrete class\n",
        "no abstarct method\n",
        "override\n"
      ],
      "metadata": {
        "id": "A6leVe8-UAI3"
      },
      "execution_count": null,
      "outputs": []
    },
    {
      "cell_type": "code",
      "source": [
        "class Computer(ABC):\n",
        "    @abstractmethod\n",
        "    def process(self):\n",
        "        print(\"hi\")\n",
        "class Laptop(Computer):\n",
        "    def process(self):\n",
        "        print(\"compile\")\n",
        "obj1=Laptop()\n",
        "obj1.process()\n"
      ],
      "metadata": {
        "id": "My8qoSAvUOV4"
      },
      "execution_count": null,
      "outputs": []
    },
    {
      "cell_type": "code",
      "source": [
        "#Base class------> abstarct class\n",
        "#derived class-----> concrete class"
      ],
      "metadata": {
        "id": "C__XRFlIVfcH"
      },
      "execution_count": null,
      "outputs": []
    },
    {
      "cell_type": "code",
      "source": [
        "from abc import ABC, abstractmethod\n",
        "class Calculation(ABC):\n",
        "    @abstractmethod\n",
        "    def add(self):\n",
        "        pass\n",
        "    @abstractmethod\n",
        "    def subtract(self):\n",
        "        pass\n",
        "    def multiply(self):\n",
        "        pass\n",
        "    def division(self):\n",
        "        pass\n",
        "class Calculator(Calculation):\n",
        "    def __init__(self, a, b):\n",
        "        self.a = a\n",
        "        self.b = b\n",
        "    def add(self):\n",
        "        print(self.a + self.b)\n",
        "    def subtract(self):\n",
        "        print(self.a - self.b)\n",
        "take = Calculator(10, 5)\n",
        "take.add()\n",
        "take.subtract()"
      ],
      "metadata": {
        "id": "3XBzgPYtWKog"
      },
      "execution_count": null,
      "outputs": []
    },
    {
      "cell_type": "code",
      "source": [
        "1. os\n",
        "2. sys\n",
        "3. math\n",
        "4. datatme.\n",
        "5. random\n",
        "6. array\n",
        "7. functools\n",
        "8. json"
      ],
      "metadata": {
        "id": "Grh6DqVYZNGC"
      },
      "execution_count": null,
      "outputs": []
    }
  ]
}