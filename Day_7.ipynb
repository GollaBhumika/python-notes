{
  "nbformat": 4,
  "nbformat_minor": 0,
  "metadata": {
    "colab": {
      "private_outputs": true,
      "provenance": []
    },
    "kernelspec": {
      "name": "python3",
      "display_name": "Python 3"
    },
    "language_info": {
      "name": "python"
    }
  },
  "cells": [
    {
      "cell_type": "code",
      "source": [
        "def add(x,y): #x,y are arguements\n",
        "    return x+y\n",
        "add(2,3)"
      ],
      "metadata": {
        "id": "dR88rz-AnU8L"
      },
      "execution_count": null,
      "outputs": []
    },
    {
      "cell_type": "markdown",
      "source": [
        "functional programming language like c the execution to to bottom"
      ],
      "metadata": {
        "id": "XjwYFza2ruf0"
      }
    },
    {
      "cell_type": "code",
      "source": [
        "sum([2,3])"
      ],
      "metadata": {
        "id": "YjPV8ycwrd-D"
      },
      "execution_count": null,
      "outputs": []
    },
    {
      "cell_type": "code",
      "source": [
        "#lambda function anynoumous function"
      ],
      "metadata": {
        "id": "y6STPOair_uv"
      },
      "execution_count": null,
      "outputs": []
    },
    {
      "cell_type": "code",
      "source": [
        "l=lambda x,y: x+y"
      ],
      "metadata": {
        "id": "V8TQ1hmhsQJq"
      },
      "execution_count": null,
      "outputs": []
    },
    {
      "cell_type": "code",
      "source": [
        "l(2,3)"
      ],
      "metadata": {
        "id": "EPY8clHlsVxR"
      },
      "execution_count": null,
      "outputs": []
    },
    {
      "cell_type": "code",
      "source": [
        "l=[1,2,3,4]+2"
      ],
      "metadata": {
        "id": "4H4yulZQsjnq"
      },
      "execution_count": null,
      "outputs": []
    },
    {
      "cell_type": "code",
      "source": [
        "import array as ar"
      ],
      "metadata": {
        "id": "Si6bioSUs4Za"
      },
      "execution_count": null,
      "outputs": []
    },
    {
      "cell_type": "code",
      "source": [
        "arr1=ar.array('i',[1,2,3])"
      ],
      "metadata": {
        "id": "LTWOVP1ps97f"
      },
      "execution_count": null,
      "outputs": []
    },
    {
      "cell_type": "code",
      "source": [
        "arr2 =ar.array('i',[2,3,4])"
      ],
      "metadata": {
        "id": "GKpoyVLJtEeW"
      },
      "execution_count": null,
      "outputs": []
    },
    {
      "cell_type": "code",
      "source": [
        "arr1+arr2"
      ],
      "metadata": {
        "id": "ixMLNLaktRbd"
      },
      "execution_count": null,
      "outputs": []
    },
    {
      "cell_type": "code",
      "source": [
        "type(arr1)"
      ],
      "metadata": {
        "id": "cmj3wCINtfPc"
      },
      "execution_count": null,
      "outputs": []
    },
    {
      "cell_type": "code",
      "source": [
        "#filter\n",
        "#map\n",
        "#reduce"
      ],
      "metadata": {
        "id": "6ntmFpNAtgoX"
      },
      "execution_count": null,
      "outputs": []
    },
    {
      "cell_type": "markdown",
      "source": [
        "#methos1"
      ],
      "metadata": {
        "id": "FH6zVxuBukyo"
      }
    },
    {
      "cell_type": "code",
      "source": [
        "list1=[1,2,3,4,5,6]\n",
        "def even(x): #x,y are arguements\n",
        "    return x%2==0"
      ],
      "metadata": {
        "id": "rUGjyArztrqQ"
      },
      "execution_count": null,
      "outputs": []
    },
    {
      "cell_type": "code",
      "source": [
        "a=list(filter(even, list1))"
      ],
      "metadata": {
        "id": "6xgSXQUnt62g"
      },
      "execution_count": null,
      "outputs": []
    },
    {
      "cell_type": "code",
      "source": [
        "a"
      ],
      "metadata": {
        "id": "8nRrg7bUuNSm"
      },
      "execution_count": null,
      "outputs": []
    },
    {
      "cell_type": "markdown",
      "source": [
        "#method 2:"
      ],
      "metadata": {
        "id": "VEXMFGQruk6M"
      }
    },
    {
      "cell_type": "code",
      "source": [
        "list1=[1,2,3,4,5,6]\n",
        "odd=list(filter(lambda n: n%2==1, list1)) #list of even values\n",
        "print(odd)\n",
        "#convert n---->m, n>m"
      ],
      "metadata": {
        "id": "nRyTKXdKuRqe"
      },
      "execution_count": null,
      "outputs": []
    },
    {
      "cell_type": "code",
      "source": [
        "#l=[1,2,3,4]+2"
      ],
      "metadata": {
        "id": "TqQkXZiEvEx8"
      },
      "execution_count": null,
      "outputs": []
    },
    {
      "cell_type": "markdown",
      "source": [
        "#map"
      ],
      "metadata": {
        "id": "XROOgthCwI4S"
      }
    },
    {
      "cell_type": "code",
      "source": [
        "l2=[1,2,3,4,5,6]\n",
        "adding =list(map(lambda n: n%2==0, l2))\n",
        "print(adding)\n",
        "#n----->n"
      ],
      "metadata": {
        "id": "8GTA39rbwKDh"
      },
      "execution_count": null,
      "outputs": []
    },
    {
      "cell_type": "code",
      "source": [
        "#reduce is convert N----->1"
      ],
      "metadata": {
        "id": "ZJx-N6CE0onO"
      },
      "execution_count": null,
      "outputs": []
    },
    {
      "cell_type": "code",
      "source": [
        "import functools\n",
        "#n----->1 conversion of list object into int"
      ],
      "metadata": {
        "id": "B_M_Gr4_wc-5"
      },
      "execution_count": null,
      "outputs": []
    },
    {
      "cell_type": "code",
      "source": [
        "add=functools.reduce(lambda a,b: a+b, l2)\n",
        "print(add)"
      ],
      "metadata": {
        "id": "VI21soIxy9Kq"
      },
      "execution_count": null,
      "outputs": []
    },
    {
      "cell_type": "code",
      "source": [
        "type(add)"
      ],
      "metadata": {
        "id": "kJhWgf3g0spK"
      },
      "execution_count": null,
      "outputs": []
    },
    {
      "cell_type": "code",
      "source": [
        "hex(20) #0,1,2,3,4,5,6,7,8,9,A,B,C,D,E,F"
      ],
      "metadata": {
        "id": "nXWPZ5y91gC6"
      },
      "execution_count": null,
      "outputs": []
    },
    {
      "cell_type": "code",
      "source": [
        "len(\"123456\")"
      ],
      "metadata": {
        "id": "I7yzldwV1mwt"
      },
      "execution_count": null,
      "outputs": []
    },
    {
      "cell_type": "code",
      "source": [
        "len([1,2,3,4,5,6])"
      ],
      "metadata": {
        "id": "iOBaAaY62Z6k"
      },
      "execution_count": null,
      "outputs": []
    },
    {
      "cell_type": "code",
      "source": [
        "len({1:2,2:3})"
      ],
      "metadata": {
        "id": "TZOIF3Rv2dLN"
      },
      "execution_count": null,
      "outputs": []
    },
    {
      "cell_type": "code",
      "source": [
        "max((1,2,3,4,4))"
      ],
      "metadata": {
        "id": "zgKEVG7c2h2X"
      },
      "execution_count": null,
      "outputs": []
    },
    {
      "cell_type": "code",
      "source": [
        "max([1,2,3,4])"
      ],
      "metadata": {
        "id": "AP-RJ_nF2unT"
      },
      "execution_count": null,
      "outputs": []
    },
    {
      "cell_type": "code",
      "source": [
        "max({1,2,3,3,445})"
      ],
      "metadata": {
        "id": "Tv4BnUft2xMv"
      },
      "execution_count": null,
      "outputs": []
    },
    {
      "cell_type": "code",
      "source": [
        "max([\"1\",\"2\"])"
      ],
      "metadata": {
        "id": "l0fC-s_y207o"
      },
      "execution_count": null,
      "outputs": []
    },
    {
      "cell_type": "code",
      "source": [
        "?max"
      ],
      "metadata": {
        "id": "OT8132cD3DWS"
      },
      "execution_count": null,
      "outputs": []
    },
    {
      "cell_type": "code",
      "source": [
        "max([1,2,\"l\"])"
      ],
      "metadata": {
        "id": "STFbdw333Khy"
      },
      "execution_count": null,
      "outputs": []
    },
    {
      "cell_type": "code",
      "source": [
        "max([\" \",\"E\",\"y\"])"
      ],
      "metadata": {
        "id": "0JW6uIeD3ETv"
      },
      "execution_count": null,
      "outputs": []
    },
    {
      "cell_type": "code",
      "source": [
        "max([\"aug\",\"aur\",\"aus\"])"
      ],
      "metadata": {
        "id": "sppus_Ir3hCZ"
      },
      "execution_count": null,
      "outputs": []
    },
    {
      "cell_type": "code",
      "source": [
        "max([\"@\",\"$\"])"
      ],
      "metadata": {
        "id": "GfMNSAw634sC"
      },
      "execution_count": null,
      "outputs": []
    },
    {
      "cell_type": "code",
      "source": [
        "ord('@')"
      ],
      "metadata": {
        "id": "R6PHK5wC387f"
      },
      "execution_count": null,
      "outputs": []
    },
    {
      "cell_type": "code",
      "source": [
        "bin(3) #0----->7"
      ],
      "metadata": {
        "id": "U5h8ttLw4B9L"
      },
      "execution_count": null,
      "outputs": []
    },
    {
      "cell_type": "code",
      "source": [
        "hex(3)"
      ],
      "metadata": {
        "id": "o0rcEuqy4aew"
      },
      "execution_count": null,
      "outputs": []
    },
    {
      "cell_type": "code",
      "source": [
        "oct(3)"
      ],
      "metadata": {
        "id": "cOCWPFzH4swc"
      },
      "execution_count": null,
      "outputs": []
    },
    {
      "cell_type": "code",
      "source": [
        "2**3"
      ],
      "metadata": {
        "id": "xOERI0v04ujl"
      },
      "execution_count": null,
      "outputs": []
    },
    {
      "cell_type": "code",
      "source": [
        "pow(2,3)"
      ],
      "metadata": {
        "id": "aC8EvnAP424c"
      },
      "execution_count": null,
      "outputs": []
    },
    {
      "cell_type": "code",
      "source": [
        "list(reversed('radha ganesh'))"
      ],
      "metadata": {
        "id": "QjK3Q7HG44a0"
      },
      "execution_count": null,
      "outputs": []
    },
    {
      "cell_type": "code",
      "source": [
        "l='radha ganesh'"
      ],
      "metadata": {
        "id": "efji11XN5qg7"
      },
      "execution_count": null,
      "outputs": []
    },
    {
      "cell_type": "code",
      "source": [
        "l[::-1]"
      ],
      "metadata": {
        "id": "Cc3iVdth5vhS"
      },
      "execution_count": null,
      "outputs": []
    },
    {
      "cell_type": "code",
      "source": [
        "?reversed"
      ],
      "metadata": {
        "id": "Uly8XaY-5A4L"
      },
      "execution_count": null,
      "outputs": []
    },
    {
      "cell_type": "code",
      "source": [
        "?slice"
      ],
      "metadata": {
        "id": "hSVcBrzy5HC1"
      },
      "execution_count": null,
      "outputs": []
    },
    {
      "cell_type": "code",
      "source": [
        "x=slice(3) #stop value"
      ],
      "metadata": {
        "id": "kBh7CCfT6JuJ"
      },
      "execution_count": null,
      "outputs": []
    },
    {
      "cell_type": "code",
      "source": [
        "l[x]"
      ],
      "metadata": {
        "id": "gXK6MyuD6Uz8"
      },
      "execution_count": null,
      "outputs": []
    },
    {
      "cell_type": "code",
      "source": [
        "f=\"welcome to shimakh technolgy\"3---->nextvalue 3+4\n",
        "\n",
        "   #012345678910"
      ],
      "metadata": {
        "id": "r5n2EE3d6VJQ"
      },
      "execution_count": null,
      "outputs": []
    },
    {
      "cell_type": "code",
      "source": [
        "f[5::6]"
      ],
      "metadata": {
        "id": "C9Poxyuj_wkh"
      },
      "execution_count": null,
      "outputs": []
    },
    {
      "cell_type": "code",
      "source": [
        "f[-23:-4:6]"
      ],
      "metadata": {
        "id": "Qv2X1rL7Aku-"
      },
      "execution_count": null,
      "outputs": []
    },
    {
      "cell_type": "code",
      "source": [
        "f[3:21:4]"
      ],
      "metadata": {
        "id": "yj_TT30g-Icf"
      },
      "execution_count": null,
      "outputs": []
    },
    {
      "cell_type": "code",
      "source": [
        "f[::]"
      ],
      "metadata": {
        "id": "IIusTjqS8NN6"
      },
      "execution_count": null,
      "outputs": []
    },
    {
      "cell_type": "code",
      "source": [
        "f[0:29:1]"
      ],
      "metadata": {
        "id": "1dKAw3IT8Vk_"
      },
      "execution_count": null,
      "outputs": []
    },
    {
      "cell_type": "code",
      "source": [
        "f[:28]"
      ],
      "metadata": {
        "id": "t7gOESj98c2C"
      },
      "execution_count": null,
      "outputs": []
    },
    {
      "cell_type": "code",
      "source": [
        "f[:28:1]"
      ],
      "metadata": {
        "id": "eZnRAAVs80oK"
      },
      "execution_count": null,
      "outputs": []
    },
    {
      "cell_type": "code",
      "source": [
        "f[::1]"
      ],
      "metadata": {
        "id": "oN6MS9Zy84ep"
      },
      "execution_count": null,
      "outputs": []
    },
    {
      "cell_type": "code",
      "source": [
        "f[0::]"
      ],
      "metadata": {
        "id": "_UyB18hq8-Jk"
      },
      "execution_count": null,
      "outputs": []
    },
    {
      "cell_type": "code",
      "source": [
        "f[0::1]"
      ],
      "metadata": {
        "id": "2iSwV_N99CSG"
      },
      "execution_count": null,
      "outputs": []
    },
    {
      "cell_type": "code",
      "source": [
        "f[1:6:2]"
      ],
      "metadata": {
        "id": "B14ei-y59Mdj"
      },
      "execution_count": null,
      "outputs": []
    },
    {
      "cell_type": "code",
      "source": [
        "len(f)"
      ],
      "metadata": {
        "id": "G2v-H7_k6utJ"
      },
      "execution_count": null,
      "outputs": []
    },
    {
      "cell_type": "code",
      "source": [
        "#f[start:stop:step] #start value bydefault 0, bydefault stop last elements, bydefault value is 1"
      ],
      "metadata": {
        "id": "h-gZ_ZZh7wb8"
      },
      "execution_count": null,
      "outputs": []
    },
    {
      "cell_type": "code",
      "source": [
        "#positive and negative"
      ],
      "metadata": {
        "id": "QSyn04DE6xkz"
      },
      "execution_count": null,
      "outputs": []
    },
    {
      "cell_type": "code",
      "source": [
        "f[2:6:-1]"
      ],
      "metadata": {
        "id": "vNwHfKysBpwo"
      },
      "execution_count": null,
      "outputs": []
    },
    {
      "cell_type": "code",
      "source": [
        "#comprehension in python\n",
        "#list compehension\n",
        "dictionary\n",
        "set\n",
        "generator"
      ],
      "metadata": {
        "id": "dYFkAzevCKiH"
      },
      "execution_count": null,
      "outputs": []
    },
    {
      "cell_type": "code",
      "source": [
        "l=[1,2,3,4,5]*[1,2,3,4,5]"
      ],
      "metadata": {
        "id": "fRm7JJBHF8bO"
      },
      "execution_count": null,
      "outputs": []
    },
    {
      "cell_type": "code",
      "source": [
        "d=[]\n",
        "for i in l:\n",
        "    if i%2==0:\n",
        "        d.append(i)\n",
        "print(d)"
      ],
      "metadata": {
        "id": "ooVwV6RkF5cf"
      },
      "execution_count": null,
      "outputs": []
    },
    {
      "cell_type": "code",
      "source": [
        "#list compehension ----> Syntax[expression for variable in list condiotion]"
      ],
      "metadata": {
        "id": "FgdWaQRxGS9V"
      },
      "execution_count": null,
      "outputs": []
    },
    {
      "cell_type": "code",
      "source": [
        "lis1=[i**i for i in l if i%2==0]"
      ],
      "metadata": {
        "id": "TpBBPPXqGlAt"
      },
      "execution_count": null,
      "outputs": []
    },
    {
      "cell_type": "code",
      "source": [
        "lis1"
      ],
      "metadata": {
        "id": "Q0efNe0_GL4i"
      },
      "execution_count": null,
      "outputs": []
    },
    {
      "cell_type": "code",
      "source": [
        "#compehension dictionary\n",
        "#syntax---->{key:value for (key,value) in sequence if(key, value)}"
      ],
      "metadata": {
        "id": "zKS0Stb8G8U4"
      },
      "execution_count": null,
      "outputs": []
    },
    {
      "cell_type": "code",
      "source": [
        "l"
      ],
      "metadata": {
        "id": "Nz4dS0DbIBhv"
      },
      "execution_count": null,
      "outputs": []
    },
    {
      "cell_type": "code",
      "source": [
        "o={}\n",
        "for i in l:\n",
        "    #if i%2!=0:\n",
        "        o[i]=i*2\n",
        "print(o)"
      ],
      "metadata": {
        "id": "9KZ_J3neICip"
      },
      "execution_count": null,
      "outputs": []
    },
    {
      "cell_type": "code",
      "source": [
        "dict1={i:i*2 for i in l}"
      ],
      "metadata": {
        "id": "gmY7BnFsIj0l"
      },
      "execution_count": null,
      "outputs": []
    },
    {
      "cell_type": "code",
      "source": [
        "dict1"
      ],
      "metadata": {
        "id": "y4cL_y9EI6va"
      },
      "execution_count": null,
      "outputs": []
    },
    {
      "cell_type": "code",
      "source": [
        "#zip\n",
        "l1=[1,2,3]"
      ],
      "metadata": {
        "id": "cWPvu2BsI-Iz"
      },
      "execution_count": null,
      "outputs": []
    },
    {
      "cell_type": "code",
      "source": [
        "l2=[2,4,6]"
      ],
      "metadata": {
        "id": "xKDq5y02KFAs"
      },
      "execution_count": null,
      "outputs": []
    },
    {
      "cell_type": "code",
      "source": [
        "o={}"
      ],
      "metadata": {
        "id": "nkOkmmA5KI0D"
      },
      "execution_count": null,
      "outputs": []
    },
    {
      "cell_type": "code",
      "source": [
        "for (i, j) in zip(l1,l2):\n",
        "    o[i]=j\n",
        "print(o)"
      ],
      "metadata": {
        "id": "jJO-_lx9KLXB"
      },
      "execution_count": null,
      "outputs": []
    },
    {
      "cell_type": "code",
      "source": [
        "o1={i:j for (i,j) in zip(l1,l2)}"
      ],
      "metadata": {
        "id": "9B1lrGxrK6BN"
      },
      "execution_count": null,
      "outputs": []
    },
    {
      "cell_type": "code",
      "source": [
        "o1"
      ],
      "metadata": {
        "id": "Jz8ts6TGKa0R"
      },
      "execution_count": null,
      "outputs": []
    },
    {
      "cell_type": "code",
      "source": [
        "#set comprehension      syntax---->{expression for var in l if condition}"
      ],
      "metadata": {
        "id": "njCexx11LMjP"
      },
      "execution_count": null,
      "outputs": []
    },
    {
      "cell_type": "code",
      "source": [
        "l"
      ],
      "metadata": {
        "id": "Z9agW2X_Ls6n"
      },
      "execution_count": null,
      "outputs": []
    },
    {
      "cell_type": "code",
      "source": [
        "o=set()\n",
        "for i in l:\n",
        "    o.add(i)\n",
        "print(o)"
      ],
      "metadata": {
        "id": "ADlBaiwbLtki"
      },
      "execution_count": null,
      "outputs": []
    },
    {
      "cell_type": "code",
      "source": [
        "o1={i for i in l}"
      ],
      "metadata": {
        "id": "Cdak8DXOMENm"
      },
      "execution_count": null,
      "outputs": []
    },
    {
      "cell_type": "code",
      "source": [
        "o1"
      ],
      "metadata": {
        "id": "ikE4OdxtMNhe"
      },
      "execution_count": null,
      "outputs": []
    },
    {
      "cell_type": "code",
      "source": [
        "t=(i for i in l)"
      ],
      "metadata": {
        "id": "0SW0qIa4MRE4"
      },
      "execution_count": null,
      "outputs": []
    },
    {
      "cell_type": "code",
      "source": [
        "t"
      ],
      "metadata": {
        "id": "4S6GPlqRMiM8"
      },
      "execution_count": null,
      "outputs": []
    },
    {
      "cell_type": "code",
      "source": [
        "type(t)"
      ],
      "metadata": {
        "id": "gyStLrLcMj43"
      },
      "execution_count": null,
      "outputs": []
    },
    {
      "cell_type": "code",
      "source": [
        "#user defined def return keyword"
      ],
      "metadata": {
        "id": "FbL8uzptMouG"
      },
      "execution_count": null,
      "outputs": []
    },
    {
      "cell_type": "code",
      "source": [
        "#generator also iterable def return yield"
      ],
      "metadata": {
        "id": "s7vZ2L3fM_62"
      },
      "execution_count": null,
      "outputs": []
    },
    {
      "cell_type": "code",
      "source": [
        "l"
      ],
      "metadata": {
        "id": "ya3l-NAsNYG5"
      },
      "execution_count": null,
      "outputs": []
    },
    {
      "cell_type": "code",
      "source": [
        "o=(i for i in l)\n"
      ],
      "metadata": {
        "id": "BA69b7uNNhkp"
      },
      "execution_count": null,
      "outputs": []
    },
    {
      "cell_type": "code",
      "source": [
        "for j in o:\n",
        "    print(j)"
      ],
      "metadata": {
        "id": "IP4ijT_vPDee"
      },
      "execution_count": null,
      "outputs": []
    },
    {
      "cell_type": "code",
      "source": [
        "for i in l:\n",
        "    print(i, end=\" \")"
      ],
      "metadata": {
        "id": "2DH2CaCzPFRm"
      },
      "execution_count": null,
      "outputs": []
    },
    {
      "cell_type": "code",
      "source": [
        "def add(x,y):\n",
        "    return x+y\n",
        "add(2,3)"
      ],
      "metadata": {
        "id": "c_hbbf_kNuIy"
      },
      "execution_count": null,
      "outputs": []
    },
    {
      "cell_type": "code",
      "source": [
        "def add():\n",
        "    yield 1\n",
        "    yield 2\n",
        "    yield 3\n",
        "a=add()\n",
        "print(next(a))\n",
        "print(next(a))\n",
        "print(next(a))"
      ],
      "metadata": {
        "id": "uILuAQM1OB4S"
      },
      "execution_count": null,
      "outputs": []
    },
    {
      "cell_type": "code",
      "source": [
        "#user defined function\n",
        "1. code reusable\n",
        "2. function is nothing but block of code\n",
        "3. this concept is reduce time & space\n",
        "4. to eliminate the redundancy (duplicate)"
      ],
      "metadata": {
        "id": "cmhYJiK3OTAU"
      },
      "execution_count": null,
      "outputs": []
    },
    {
      "cell_type": "code",
      "source": [
        "#syntax:\n",
        "def fun_name(p1,p2-----):\n",
        "    state1\n",
        "    sta2\n",
        "    state3\n",
        "#actual code starts"
      ],
      "metadata": {
        "id": "ED0DnnlJTbcv"
      },
      "execution_count": null,
      "outputs": []
    },
    {
      "cell_type": "code",
      "source": [
        "def avg(n1, n2, n3):\n",
        "    return (n1+n2+n3)/3\n",
        "\n",
        "\n",
        "\n",
        "\n",
        "\n",
        "\n",
        "\n",
        "result1=avg(1,2,3)\n",
        "print(result1)\n",
        "print(\"welcome\")"
      ],
      "metadata": {
        "id": "t-uvQNV4Q2dS"
      },
      "execution_count": null,
      "outputs": []
    },
    {
      "cell_type": "code",
      "source": [
        "sum([1,2,3,4]) #bulit"
      ],
      "metadata": {
        "id": "fsTDt-fBRBhZ"
      },
      "execution_count": null,
      "outputs": []
    },
    {
      "cell_type": "code",
      "source": [
        "(1+2+3)/3"
      ],
      "metadata": {
        "id": "7OzpTRgeRDY4"
      },
      "execution_count": null,
      "outputs": []
    },
    {
      "cell_type": "code",
      "source": [
        "def display():\n",
        "    print(\"welcome\")\n",
        "    print(\"have a nice day\")\n",
        "display()\n",
        "#non return function"
      ],
      "metadata": {
        "id": "ocMAo0LYTOVV"
      },
      "execution_count": null,
      "outputs": []
    },
    {
      "cell_type": "code",
      "source": [
        "def avg(n1,n2):\n",
        "    return (n1+n2)/2\n",
        "print(\"user input\")\n",
        "num1=int(input(\"enter the number: \"))\n",
        "num2=int(input(\"enter the number: \"))\n",
        "#result=# function calling\n",
        "print(avg(num1,num2))#print"
      ],
      "metadata": {
        "id": "BZWUYeRsVFFX"
      },
      "execution_count": null,
      "outputs": []
    },
    {
      "cell_type": "code",
      "source": [
        "def add():\n",
        "    return 2+3\n",
        "add()"
      ],
      "metadata": {
        "id": "r0T_GcO-XG5T"
      },
      "execution_count": null,
      "outputs": []
    },
    {
      "cell_type": "code",
      "source": [
        "#keyword argument"
      ],
      "metadata": {
        "id": "xxiYkunbXC2J"
      },
      "execution_count": null,
      "outputs": []
    },
    {
      "cell_type": "code",
      "source": [
        "def avg(n1, n2, n3=4): #default value\n",
        "    return (n1+n2+n3)/3\n",
        "num1=int(input(\"enter the number: \"))\n",
        "num2=int(input(\"enter the number: \"))\n",
        "print(\"the average of three values:\", avg(num1,num2))#print"
      ],
      "metadata": {
        "id": "hvWKCOD0Wo5E"
      },
      "execution_count": null,
      "outputs": []
    },
    {
      "cell_type": "code",
      "source": [
        "def avg(n1, n2=4, n3=4): #default value\n",
        "    return (n1+n2+n3)/3\n",
        "num1=int(input(\"enter the number: \"))\n",
        "#num2=int(input(\"enter the number: \"))\n",
        "print(\"the average of three values:\", avg(num1))#print"
      ],
      "metadata": {
        "id": "zoRZJUAbYEuK"
      },
      "execution_count": null,
      "outputs": []
    },
    {
      "cell_type": "code",
      "source": [
        "def avg(n1, n2=4, n3): #default value\n",
        "    return (n1+n2+n3)/3\n",
        "num1=int(input(\"enter the number: \"))\n",
        "num3=int(input(\"enter the number: \"))\n",
        "print(\"the average of three values:\", avg(num1,num3))#print"
      ],
      "metadata": {
        "id": "d0asab0HYO90"
      },
      "execution_count": null,
      "outputs": []
    },
    {
      "cell_type": "code",
      "source": [
        "def fun1(a,b): #a,b are parameters\n",
        "    print(a+b)\n",
        "fun1(10,20)#10,20 are arguements"
      ],
      "metadata": {
        "id": "GumbZplyaCPG"
      },
      "execution_count": null,
      "outputs": []
    },
    {
      "cell_type": "code",
      "source": [
        "def fun(a,b): #a,b are parameters\n",
        "   # c=a+b\n",
        "   print(a+b)\n",
        "#return a+b\n",
        "res=fun(10,20)+20 #res is variable it will be hold the result value\n",
        "print(res)"
      ],
      "metadata": {
        "id": "GYjyb_QaabD9"
      },
      "execution_count": null,
      "outputs": []
    },
    {
      "cell_type": "code",
      "source": [
        "def fun(name, age=30):\n",
        "    print(name, age)\n",
        "fun(\"ganesh\",60)"
      ],
      "metadata": {
        "id": "tVG5rEXaa5wO"
      },
      "execution_count": null,
      "outputs": []
    },
    {
      "cell_type": "code",
      "source": [
        "#function with variable length argumnet\n",
        "def fun(a,*b):\n",
        "    print(a,b)\n",
        "fun(12)\n",
        "fun(10,20)\n",
        "fun(10,1,2,3)"
      ],
      "metadata": {
        "id": "8jrcSdoUcxeW"
      },
      "execution_count": null,
      "outputs": []
    },
    {
      "cell_type": "code",
      "source": [
        "def fun(a,*b):\n",
        "    print(a,b)\n",
        "#fun(12)"
      ],
      "metadata": {
        "id": "790p8YLJeD3d"
      },
      "execution_count": null,
      "outputs": []
    },
    {
      "cell_type": "code",
      "source": [
        "#function with keywork argument"
      ],
      "metadata": {
        "id": "P9phTSKBedne"
      },
      "execution_count": null,
      "outputs": []
    },
    {
      "cell_type": "code",
      "source": [
        "def fun(**kwargs):#\n",
        "    print(kwargs, type(kwargs))\n",
        "fun(name=\"x\")"
      ],
      "metadata": {
        "id": "0HiKZxK6ezkq"
      },
      "execution_count": null,
      "outputs": []
    },
    {
      "cell_type": "code",
      "source": [
        "def fun(*args):#\n",
        "    print(kwargs, type(kwargs))\n",
        "fun(name=\"x\")"
      ],
      "metadata": {
        "id": "p2Xz3mv8hlnL"
      },
      "execution_count": null,
      "outputs": []
    },
    {
      "cell_type": "code",
      "source": [
        "#(PA, DA, VA, KWA)\n",
        "PA------>Posiotional\n",
        "DA------>Default\n",
        "VA------>Variable\n",
        "KWA----->keyword variable"
      ],
      "metadata": {
        "id": "wsf-QmcvgDQ5"
      },
      "execution_count": null,
      "outputs": []
    },
    {
      "cell_type": "code",
      "source": [
        "#python is pass by reference or call by reference\n",
        "#python is only pass by reference"
      ],
      "metadata": {
        "id": "vGwu4x_4fMyn"
      },
      "execution_count": null,
      "outputs": []
    },
    {
      "cell_type": "code",
      "source": [
        "def fun(list1):\n",
        "    print(\"inside before appaending\", list1, id(list1))\n",
        "    list1.append(3)\n",
        "    print(\"after appending\", list1, id(list1))\n",
        "lis=[4,5,6]\n",
        "print(fun(lis))\n"
      ],
      "metadata": {
        "id": "NCaJ9m3Cgv3s"
      },
      "execution_count": null,
      "outputs": []
    },
    {
      "cell_type": "code",
      "source": [
        "?map"
      ],
      "metadata": {
        "id": "yFlzkvNQhRjf"
      },
      "execution_count": null,
      "outputs": []
    },
    {
      "cell_type": "code",
      "source": [],
      "metadata": {
        "id": "VKzZCnP4hr6M"
      },
      "execution_count": null,
      "outputs": []
    }
  ]
}