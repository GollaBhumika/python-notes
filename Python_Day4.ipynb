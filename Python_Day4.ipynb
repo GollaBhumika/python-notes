{
  "nbformat": 4,
  "nbformat_minor": 0,
  "metadata": {
    "colab": {
      "private_outputs": true,
      "provenance": []
    },
    "kernelspec": {
      "name": "python3",
      "display_name": "Python 3"
    },
    "language_info": {
      "name": "python"
    }
  },
  "cells": [
    {
      "cell_type": "code",
      "execution_count": null,
      "metadata": {
        "id": "b7Iz6Xfoi0c4"
      },
      "outputs": [],
      "source": [
        "#tuple"
      ]
    },
    {
      "cell_type": "code",
      "source": [
        "tup =()"
      ],
      "metadata": {
        "id": "eBGF5LcmjKuA"
      },
      "execution_count": null,
      "outputs": []
    },
    {
      "cell_type": "code",
      "source": [
        "type(tup)"
      ],
      "metadata": {
        "id": "EoeXWK_8jN5b"
      },
      "execution_count": null,
      "outputs": []
    },
    {
      "cell_type": "code",
      "source": [
        "tup1=(1)"
      ],
      "metadata": {
        "id": "TIx4sCXrjQIe"
      },
      "execution_count": null,
      "outputs": []
    },
    {
      "cell_type": "code",
      "source": [
        "type(tup1)"
      ],
      "metadata": {
        "id": "ieS98RGejdJ9"
      },
      "execution_count": null,
      "outputs": []
    },
    {
      "cell_type": "code",
      "source": [
        "tup2=(1,)"
      ],
      "metadata": {
        "id": "d4U58r_RjlHP"
      },
      "execution_count": null,
      "outputs": []
    },
    {
      "cell_type": "code",
      "source": [
        "type(tup2)"
      ],
      "metadata": {
        "id": "CWz1pXW2joYB"
      },
      "execution_count": null,
      "outputs": []
    },
    {
      "cell_type": "code",
      "source": [
        "tup3=(1,2,3,\"a\")"
      ],
      "metadata": {
        "id": "jBdItptLjqHx"
      },
      "execution_count": null,
      "outputs": []
    },
    {
      "cell_type": "code",
      "source": [
        "print(tup3)"
      ],
      "metadata": {
        "id": "86w1veTVjxUL"
      },
      "execution_count": null,
      "outputs": []
    },
    {
      "cell_type": "code",
      "source": [
        "tup4= 1,2,3,\"d\""
      ],
      "metadata": {
        "id": "aAHR7bcQjzyc"
      },
      "execution_count": null,
      "outputs": []
    },
    {
      "cell_type": "code",
      "source": [
        "type(tup4)"
      ],
      "metadata": {
        "id": "Ya9EzgWfj867"
      },
      "execution_count": null,
      "outputs": []
    },
    {
      "cell_type": "code",
      "source": [
        "tup4[0]"
      ],
      "metadata": {
        "id": "Loe5JGVjj_Wz"
      },
      "execution_count": null,
      "outputs": []
    },
    {
      "cell_type": "code",
      "source": [
        "A=(\"apple\",\"banana\",\"guava\")"
      ],
      "metadata": {
        "id": "VGMH0saNkLF7"
      },
      "execution_count": null,
      "outputs": []
    },
    {
      "cell_type": "code",
      "source": [
        "A[1]"
      ],
      "metadata": {
        "id": "nVOSuWzwkSGj"
      },
      "execution_count": null,
      "outputs": []
    },
    {
      "cell_type": "code",
      "source": [
        "#arrays are homogeneous data types\n",
        "#tuple heterogeneuos data types\n",
        "#lists heterogeneuos data types\n"
      ],
      "metadata": {
        "id": "CU64bGhqkVcz"
      },
      "execution_count": null,
      "outputs": []
    },
    {
      "cell_type": "code",
      "source": [
        "type(A[-1])"
      ],
      "metadata": {
        "id": "D9j_SCf1lYoK"
      },
      "execution_count": null,
      "outputs": []
    },
    {
      "cell_type": "code",
      "source": [
        "A[0:2]"
      ],
      "metadata": {
        "id": "xlKOvN4rllKX"
      },
      "execution_count": null,
      "outputs": []
    },
    {
      "cell_type": "code",
      "source": [
        "A[::-1]"
      ],
      "metadata": {
        "id": "_LVScPdAlypb"
      },
      "execution_count": null,
      "outputs": []
    },
    {
      "cell_type": "code",
      "source": [
        "A[3:4]"
      ],
      "metadata": {
        "id": "vhkjiZYIl53E"
      },
      "execution_count": null,
      "outputs": []
    },
    {
      "cell_type": "code",
      "source": [
        "#unpacking"
      ],
      "metadata": {
        "id": "BDsy-uS_mRkl"
      },
      "execution_count": null,
      "outputs": []
    },
    {
      "cell_type": "code",
      "source": [
        "tup5=(10,20)"
      ],
      "metadata": {
        "id": "PSQHpDBpmkQr"
      },
      "execution_count": null,
      "outputs": []
    },
    {
      "cell_type": "code",
      "source": [
        "print(tup5)"
      ],
      "metadata": {
        "id": "sE2DPfOxmnyN"
      },
      "execution_count": null,
      "outputs": []
    },
    {
      "cell_type": "code",
      "source": [
        "a,b=tup5"
      ],
      "metadata": {
        "id": "yiQG1vp-mqU7"
      },
      "execution_count": null,
      "outputs": []
    },
    {
      "cell_type": "code",
      "source": [
        "a"
      ],
      "metadata": {
        "id": "Yz6-9FfnmvJh"
      },
      "execution_count": null,
      "outputs": []
    },
    {
      "cell_type": "code",
      "source": [
        "b"
      ],
      "metadata": {
        "id": "fdveFcQpmwl4"
      },
      "execution_count": null,
      "outputs": []
    },
    {
      "cell_type": "code",
      "source": [
        "c,d=(10,20,30)"
      ],
      "metadata": {
        "id": "j52_Ngw9mxha"
      },
      "execution_count": null,
      "outputs": []
    },
    {
      "cell_type": "code",
      "source": [
        "a,b,c=(10,20)"
      ],
      "metadata": {
        "id": "4LvUgkqZnCw6"
      },
      "execution_count": null,
      "outputs": []
    },
    {
      "cell_type": "code",
      "source": [
        "len((10,20,30,30))"
      ],
      "metadata": {
        "id": "0iAw1RqonJfY"
      },
      "execution_count": null,
      "outputs": []
    },
    {
      "cell_type": "code",
      "source": [
        "a,b,*c=(10,20,30,40,50)"
      ],
      "metadata": {
        "id": "9htjTMqInV3q"
      },
      "execution_count": null,
      "outputs": []
    },
    {
      "cell_type": "code",
      "source": [
        "a"
      ],
      "metadata": {
        "id": "rAZ6SJx3nleQ"
      },
      "execution_count": null,
      "outputs": []
    },
    {
      "cell_type": "code",
      "source": [
        "b"
      ],
      "metadata": {
        "id": "6GB0375Knmau"
      },
      "execution_count": null,
      "outputs": []
    },
    {
      "cell_type": "code",
      "source": [
        "c"
      ],
      "metadata": {
        "id": "MTuU9hf5nnKZ"
      },
      "execution_count": null,
      "outputs": []
    },
    {
      "cell_type": "code",
      "source": [
        "a,*b,c=(10,20,30,40,50)"
      ],
      "metadata": {
        "id": "T10RxqR-noDB"
      },
      "execution_count": null,
      "outputs": []
    },
    {
      "cell_type": "code",
      "source": [
        "a"
      ],
      "metadata": {
        "id": "mFycL2Bfnz0y"
      },
      "execution_count": null,
      "outputs": []
    },
    {
      "cell_type": "code",
      "source": [
        "b"
      ],
      "metadata": {
        "id": "AJpFcVtzn1JB"
      },
      "execution_count": null,
      "outputs": []
    },
    {
      "cell_type": "code",
      "source": [
        "c"
      ],
      "metadata": {
        "id": "33wPD9AHn2RV"
      },
      "execution_count": null,
      "outputs": []
    },
    {
      "cell_type": "code",
      "source": [
        "*a,b,c=(10,20,30,40,50)"
      ],
      "metadata": {
        "id": "Nw8Nj_D1n40b"
      },
      "execution_count": null,
      "outputs": []
    },
    {
      "cell_type": "code",
      "source": [
        "a"
      ],
      "metadata": {
        "id": "3pxPX139oHf6"
      },
      "execution_count": null,
      "outputs": []
    },
    {
      "cell_type": "code",
      "source": [
        "a,b=[1,2]"
      ],
      "metadata": {
        "id": "twB-_5FjoIfz"
      },
      "execution_count": null,
      "outputs": []
    },
    {
      "cell_type": "code",
      "source": [
        "a"
      ],
      "metadata": {
        "id": "Cocp7JiyoSH7"
      },
      "execution_count": null,
      "outputs": []
    },
    {
      "cell_type": "code",
      "source": [
        "b"
      ],
      "metadata": {
        "id": "18DhTC42oTCi"
      },
      "execution_count": null,
      "outputs": []
    },
    {
      "cell_type": "code",
      "source": [
        "*a,b=[10,20,30,30]"
      ],
      "metadata": {
        "id": "tbj3HH1joTqP"
      },
      "execution_count": null,
      "outputs": []
    },
    {
      "cell_type": "code",
      "source": [
        "a[0]"
      ],
      "metadata": {
        "id": "iuvB1fQarcJM"
      },
      "execution_count": null,
      "outputs": []
    },
    {
      "cell_type": "code",
      "source": [
        "b"
      ],
      "metadata": {
        "id": "ZmyKNyJGrdD4"
      },
      "execution_count": null,
      "outputs": []
    },
    {
      "cell_type": "code",
      "source": [
        "*a,*b,c=[1,2,3,4,5,5,6]"
      ],
      "metadata": {
        "id": "Yh5ThnfWrd8c"
      },
      "execution_count": null,
      "outputs": []
    },
    {
      "cell_type": "code",
      "source": [
        "id(A)"
      ],
      "metadata": {
        "id": "sEFUcXFsro0w"
      },
      "execution_count": null,
      "outputs": []
    },
    {
      "cell_type": "code",
      "source": [
        "B=A[:]"
      ],
      "metadata": {
        "id": "_LOLI-Cbr9nL"
      },
      "execution_count": null,
      "outputs": []
    },
    {
      "cell_type": "code",
      "source": [
        "tup2"
      ],
      "metadata": {
        "id": "oVC04I3SsHAM"
      },
      "execution_count": null,
      "outputs": []
    },
    {
      "cell_type": "code",
      "source": [
        "id(B)"
      ],
      "metadata": {
        "id": "OIQzV44YsaOR"
      },
      "execution_count": null,
      "outputs": []
    },
    {
      "cell_type": "code",
      "source": [
        "a"
      ],
      "metadata": {
        "id": "_SNgbsb6s7yS"
      },
      "execution_count": null,
      "outputs": []
    },
    {
      "cell_type": "code",
      "source": [
        "#count\n",
        "#index"
      ],
      "metadata": {
        "id": "rsMR44bytKKi"
      },
      "execution_count": null,
      "outputs": []
    },
    {
      "cell_type": "code",
      "source": [
        "t1=(1,2,3,4,4,5,5,6)"
      ],
      "metadata": {
        "id": "HWzUQ0OQuR9f"
      },
      "execution_count": null,
      "outputs": []
    },
    {
      "cell_type": "code",
      "source": [
        "t1"
      ],
      "metadata": {
        "id": "Eysy3TiTuWSp"
      },
      "execution_count": null,
      "outputs": []
    },
    {
      "cell_type": "code",
      "source": [
        "t1.count(1)"
      ],
      "metadata": {
        "id": "1YxNgCpluXYW"
      },
      "execution_count": null,
      "outputs": []
    },
    {
      "cell_type": "code",
      "source": [
        "t1.count(4)"
      ],
      "metadata": {
        "id": "poiXBEafucBJ"
      },
      "execution_count": null,
      "outputs": []
    },
    {
      "cell_type": "code",
      "source": [
        "t1.index(6)"
      ],
      "metadata": {
        "id": "3R3x0syVuf1E"
      },
      "execution_count": null,
      "outputs": []
    },
    {
      "cell_type": "code",
      "source": [
        "t1.index(4)"
      ],
      "metadata": {
        "id": "d8_ZBF50usCN"
      },
      "execution_count": null,
      "outputs": []
    },
    {
      "cell_type": "code",
      "source": [
        "t2=(1,2,3,4)"
      ],
      "metadata": {
        "id": "CFbYjldLu36i"
      },
      "execution_count": null,
      "outputs": []
    },
    {
      "cell_type": "code",
      "source": [
        "t3=t1+t2"
      ],
      "metadata": {
        "id": "E_SyCMK3vGPL"
      },
      "execution_count": null,
      "outputs": []
    },
    {
      "cell_type": "code",
      "source": [
        "t3"
      ],
      "metadata": {
        "id": "Of_FM6UcvNpY"
      },
      "execution_count": null,
      "outputs": []
    },
    {
      "cell_type": "code",
      "source": [
        "t2*2"
      ],
      "metadata": {
        "id": "901d0PlcvteU"
      },
      "execution_count": null,
      "outputs": []
    },
    {
      "cell_type": "code",
      "source": [
        "t1*t2 #non multiply with tuple with tuple"
      ],
      "metadata": {
        "id": "oWhtGnd1vqIC"
      },
      "execution_count": null,
      "outputs": []
    },
    {
      "cell_type": "code",
      "source": [
        "print(id(t3[3]))"
      ],
      "metadata": {
        "id": "9n8Uz5IRwDNR"
      },
      "execution_count": null,
      "outputs": []
    },
    {
      "cell_type": "code",
      "source": [
        "t3[3]"
      ],
      "metadata": {
        "id": "Y9bSGqS8wjkw"
      },
      "execution_count": null,
      "outputs": []
    },
    {
      "cell_type": "code",
      "source": [
        "print(id(t3[6]))"
      ],
      "metadata": {
        "id": "URPSV632wQ5L"
      },
      "execution_count": null,
      "outputs": []
    },
    {
      "cell_type": "code",
      "source": [
        "t3[4]"
      ],
      "metadata": {
        "id": "bKppPgeGwgIW"
      },
      "execution_count": null,
      "outputs": []
    },
    {
      "cell_type": "code",
      "source": [
        "t3"
      ],
      "metadata": {
        "id": "SiivM8kZwm0h"
      },
      "execution_count": null,
      "outputs": []
    },
    {
      "cell_type": "code",
      "source": [
        "max(t3)"
      ],
      "metadata": {
        "id": "0CZtVgUYw0KV"
      },
      "execution_count": null,
      "outputs": []
    },
    {
      "cell_type": "code",
      "source": [
        "min(t3)"
      ],
      "metadata": {
        "id": "_kcBYR0LxB3a"
      },
      "execution_count": null,
      "outputs": []
    },
    {
      "cell_type": "code",
      "source": [
        "t4=1,2,3,\"t\""
      ],
      "metadata": {
        "id": "8U1g4_YExGWu"
      },
      "execution_count": null,
      "outputs": []
    },
    {
      "cell_type": "code",
      "source": [
        "max(t4)"
      ],
      "metadata": {
        "id": "by2ASkJyxMqC"
      },
      "execution_count": null,
      "outputs": []
    },
    {
      "cell_type": "code",
      "source": [
        "max(\"1hello\")"
      ],
      "metadata": {
        "id": "F1b9OwOGxVtr"
      },
      "execution_count": null,
      "outputs": []
    },
    {
      "cell_type": "code",
      "source": [
        "#python2\n",
        "\"35\">45\n",
        "#True"
      ],
      "metadata": {
        "id": "fP18D2HXxlcH"
      },
      "execution_count": null,
      "outputs": []
    },
    {
      "cell_type": "code",
      "source": [
        "!python --version"
      ],
      "metadata": {
        "id": "s7y4UVEGx7Lc"
      },
      "execution_count": null,
      "outputs": []
    },
    {
      "cell_type": "code",
      "source": [
        "#python 3\n",
        "\"35\">45"
      ],
      "metadata": {
        "id": "xZ_BQxtix9Tl"
      },
      "execution_count": null,
      "outputs": []
    },
    {
      "cell_type": "code",
      "source": [
        "list1 =[1,2,3]"
      ],
      "metadata": {
        "id": "aGYurMMByGLd"
      },
      "execution_count": null,
      "outputs": []
    },
    {
      "cell_type": "code",
      "source": [
        "list1"
      ],
      "metadata": {
        "id": "Zqb17owEyV6L"
      },
      "execution_count": null,
      "outputs": []
    },
    {
      "cell_type": "code",
      "source": [
        "t5=tuple(list1)"
      ],
      "metadata": {
        "id": "KB_momTCyNqW"
      },
      "execution_count": null,
      "outputs": []
    },
    {
      "cell_type": "code",
      "source": [
        "t5"
      ],
      "metadata": {
        "id": "jeL4S6vjyT86"
      },
      "execution_count": null,
      "outputs": []
    },
    {
      "cell_type": "code",
      "source": [
        "t6=list(t5)"
      ],
      "metadata": {
        "id": "JZ1UJMB8yYpo"
      },
      "execution_count": null,
      "outputs": []
    },
    {
      "cell_type": "code",
      "source": [
        "t6"
      ],
      "metadata": {
        "id": "LA-z5Wlqyj0Y"
      },
      "execution_count": null,
      "outputs": []
    },
    {
      "cell_type": "code",
      "source": [
        "a=input(\"enter the elements: \")\n",
        "t1 =tuple(a.split())"
      ],
      "metadata": {
        "id": "iaBd4KAyyk1e"
      },
      "execution_count": null,
      "outputs": []
    },
    {
      "cell_type": "code",
      "source": [
        "t1"
      ],
      "metadata": {
        "id": "OBzpr4Wdy-jL"
      },
      "execution_count": null,
      "outputs": []
    },
    {
      "cell_type": "code",
      "source": [
        "t7=\"aa\",\"aaz\",\"z\""
      ],
      "metadata": {
        "id": "zASeaZDbzA8a"
      },
      "execution_count": null,
      "outputs": []
    },
    {
      "cell_type": "code",
      "source": [
        "max(t7)"
      ],
      "metadata": {
        "id": "UUKiXtU9zq_g"
      },
      "execution_count": null,
      "outputs": []
    },
    {
      "cell_type": "code",
      "source": [
        "min(t7)"
      ],
      "metadata": {
        "id": "8PLVjYvVzzs3"
      },
      "execution_count": null,
      "outputs": []
    },
    {
      "cell_type": "code",
      "source": [
        "#List\n",
        "l1=[\"a\",\"b\",\"c\",\"d\"]"
      ],
      "metadata": {
        "id": "fqjC-p2iz1w3"
      },
      "execution_count": null,
      "outputs": []
    },
    {
      "cell_type": "code",
      "source": [
        "l1"
      ],
      "metadata": {
        "id": "NPx7Ywiv1CdW"
      },
      "execution_count": null,
      "outputs": []
    },
    {
      "cell_type": "code",
      "source": [
        "#deleting value from a list\n",
        "del l1[0]"
      ],
      "metadata": {
        "id": "UzBQAvHa1DyI"
      },
      "execution_count": null,
      "outputs": []
    },
    {
      "cell_type": "code",
      "source": [
        "l1"
      ],
      "metadata": {
        "id": "CHR_BfsO1S-X"
      },
      "execution_count": null,
      "outputs": []
    },
    {
      "cell_type": "code",
      "source": [
        "l1.pop()"
      ],
      "metadata": {
        "id": "6MkabKUK1T04"
      },
      "execution_count": null,
      "outputs": []
    },
    {
      "cell_type": "code",
      "source": [
        "l1"
      ],
      "metadata": {
        "id": "JXXiROzY1ePu"
      },
      "execution_count": null,
      "outputs": []
    },
    {
      "cell_type": "code",
      "source": [
        "l1.pop(0)"
      ],
      "metadata": {
        "id": "k8dfnnRX1for"
      },
      "execution_count": null,
      "outputs": []
    },
    {
      "cell_type": "code",
      "source": [
        "l1"
      ],
      "metadata": {
        "id": "7J6O8Xlz1iUz"
      },
      "execution_count": null,
      "outputs": []
    },
    {
      "cell_type": "code",
      "source": [
        "l1=[1,2,3]\n",
        "l2=[3,5,3]"
      ],
      "metadata": {
        "id": "d60b8_7H1lHW"
      },
      "execution_count": null,
      "outputs": []
    },
    {
      "cell_type": "code",
      "source": [
        "l1+l2 #+ indicates concatenation not addition"
      ],
      "metadata": {
        "id": "ZAJwsY4w1zHh"
      },
      "execution_count": null,
      "outputs": []
    },
    {
      "cell_type": "code",
      "source": [
        "l1*l2 # numpy, arrays matrix multplication is valid and"
      ],
      "metadata": {
        "id": "42kuZmHL1_Ei"
      },
      "execution_count": null,
      "outputs": []
    },
    {
      "cell_type": "code",
      "source": [
        "l1*2"
      ],
      "metadata": {
        "id": "vf9bRTA62Cqp"
      },
      "execution_count": null,
      "outputs": []
    },
    {
      "cell_type": "code",
      "source": [
        "#interview question id is not same because mutable datatype"
      ],
      "metadata": {
        "id": "l0CAmWBF2FEn"
      },
      "execution_count": null,
      "outputs": []
    },
    {
      "cell_type": "code",
      "source": [
        "lis1=[10,30]"
      ],
      "metadata": {
        "id": "WTPUxUNG2ORj"
      },
      "execution_count": null,
      "outputs": []
    },
    {
      "cell_type": "code",
      "source": [
        "id(lis1)"
      ],
      "metadata": {
        "id": "O9wOBflx2cUL"
      },
      "execution_count": null,
      "outputs": []
    },
    {
      "cell_type": "code",
      "source": [
        "lis2=lis1[:]"
      ],
      "metadata": {
        "id": "sEKiubOA2d0V"
      },
      "execution_count": null,
      "outputs": []
    },
    {
      "cell_type": "code",
      "source": [
        "id(lis2)"
      ],
      "metadata": {
        "id": "G0uO0Y042inR"
      },
      "execution_count": null,
      "outputs": []
    },
    {
      "cell_type": "code",
      "source": [
        "2**3"
      ],
      "metadata": {
        "id": "6sfwRSIl2o7P"
      },
      "execution_count": null,
      "outputs": []
    },
    {
      "cell_type": "code",
      "source": [
        "pow(2,7)"
      ],
      "metadata": {
        "id": "5vqoLmKQ3Ofl"
      },
      "execution_count": null,
      "outputs": []
    },
    {
      "cell_type": "code",
      "source": [
        "q=1.2+1.4+1.6"
      ],
      "metadata": {
        "id": "QVEAip1J3Vic"
      },
      "execution_count": null,
      "outputs": []
    },
    {
      "cell_type": "code",
      "source": [
        "import math as m"
      ],
      "metadata": {
        "id": "UNW9Rryu3jHj"
      },
      "execution_count": null,
      "outputs": []
    },
    {
      "cell_type": "code",
      "source": [
        "dir(m)"
      ],
      "metadata": {
        "id": "yPWth1B231mw"
      },
      "execution_count": null,
      "outputs": []
    },
    {
      "cell_type": "code",
      "source": [
        "m.ceil(q)"
      ],
      "metadata": {
        "id": "5pEc-fMV3_Ar"
      },
      "execution_count": null,
      "outputs": []
    },
    {
      "cell_type": "code",
      "source": [
        "m.floor(q)"
      ],
      "metadata": {
        "id": "WhrFskxK33pn"
      },
      "execution_count": null,
      "outputs": []
    },
    {
      "cell_type": "code",
      "source": [
        "round(q,2)"
      ],
      "metadata": {
        "id": "FfyNlV9M4NUe"
      },
      "execution_count": null,
      "outputs": []
    },
    {
      "cell_type": "code",
      "source": [
        "l1"
      ],
      "metadata": {
        "id": "Y3nWYUbF4kKf"
      },
      "execution_count": null,
      "outputs": []
    },
    {
      "cell_type": "code",
      "source": [
        "l2"
      ],
      "metadata": {
        "id": "1DfKjqt_5llE"
      },
      "execution_count": null,
      "outputs": []
    },
    {
      "cell_type": "code",
      "source": [
        "list1 = [1, 2, 3, 3]\n",
        "list2 = [4, 5, 6]\n",
        "\n",
        "result = [a * b for a, b in zip(list1, list2)]\n",
        "\n",
        "print(result)"
      ],
      "metadata": {
        "id": "gK35Ka0Y5nlv"
      },
      "execution_count": null,
      "outputs": []
    },
    {
      "cell_type": "code",
      "source": [
        "abs(-1)"
      ],
      "metadata": {
        "id": "auoLYw0l6OwB"
      },
      "execution_count": null,
      "outputs": []
    },
    {
      "cell_type": "code",
      "source": [
        "for a,b in zip(a,b)):\n",
        "    print(a)"
      ],
      "metadata": {
        "id": "2mzDwwr-6QKO"
      },
      "execution_count": null,
      "outputs": []
    },
    {
      "cell_type": "markdown",
      "source": [
        "#set methods"
      ],
      "metadata": {
        "id": "mxK6OEa6FllG"
      }
    },
    {
      "cell_type": "code",
      "source": [
        "#add\n",
        "#copy\n",
        "#clear\n",
        "#difference\n",
        "#difference_update\n",
        "x={\"apple\",\"banana\",\"cherry\"}\n",
        "y={\"x\",\"apple\"}"
      ],
      "metadata": {
        "id": "3KKkUReTFpvs"
      },
      "execution_count": null,
      "outputs": []
    },
    {
      "cell_type": "code",
      "source": [
        "x.difference_update(y)"
      ],
      "metadata": {
        "id": "otkYgoKJJi1U"
      },
      "execution_count": null,
      "outputs": []
    },
    {
      "cell_type": "code",
      "source": [
        "print(x)"
      ],
      "metadata": {
        "id": "A1oI-3-fJzFh"
      },
      "execution_count": null,
      "outputs": []
    },
    {
      "cell_type": "code",
      "source": [
        "#difference is returns a new set withiut unwanted items\n",
        "#difference_update method to remove the uneanted items from the original set"
      ],
      "metadata": {
        "id": "vIQZjKfoJ1pq"
      },
      "execution_count": null,
      "outputs": []
    },
    {
      "cell_type": "code",
      "source": [
        "a={\"apple\",\"banana\",\"cherry\"}"
      ],
      "metadata": {
        "id": "_mXZp2v9KYWw"
      },
      "execution_count": null,
      "outputs": []
    },
    {
      "cell_type": "code",
      "source": [
        "a.discard(\"apple\")"
      ],
      "metadata": {
        "id": "sKf9NbHIKcys"
      },
      "execution_count": null,
      "outputs": []
    },
    {
      "cell_type": "code",
      "source": [
        "a"
      ],
      "metadata": {
        "id": "HxAFuJCOKfvg"
      },
      "execution_count": null,
      "outputs": []
    },
    {
      "cell_type": "code",
      "source": [
        "x={\"apple\",\"banana\",\"cherry\"}\n",
        "y={\"x\",\"apple\"}\n",
        "z={\"apple\"}"
      ],
      "metadata": {
        "id": "gH-52Qm-KhYD"
      },
      "execution_count": null,
      "outputs": []
    },
    {
      "cell_type": "code",
      "source": [
        "x.intersection(y,z)"
      ],
      "metadata": {
        "id": "LNoUR68FKuNi"
      },
      "execution_count": null,
      "outputs": []
    },
    {
      "cell_type": "code",
      "source": [
        "x={\"apple\",\"banana\",\"cherry\"}\n",
        "y={\"x\",\"apple\"}"
      ],
      "metadata": {
        "id": "-94BSL95Kyg9"
      },
      "execution_count": null,
      "outputs": []
    },
    {
      "cell_type": "code",
      "source": [
        "x.intersection_update(y)"
      ],
      "metadata": {
        "id": "d0GISnJjLZCx"
      },
      "execution_count": null,
      "outputs": []
    },
    {
      "cell_type": "code",
      "source": [
        "x"
      ],
      "metadata": {
        "id": "zeAIf6l9LhTa"
      },
      "execution_count": null,
      "outputs": []
    },
    {
      "cell_type": "code",
      "source": [
        "?x.isdisjoint"
      ],
      "metadata": {
        "id": "jBIjj9DbLkyL"
      },
      "execution_count": null,
      "outputs": []
    },
    {
      "cell_type": "code",
      "source": [
        "x.isdisjoint(y)"
      ],
      "metadata": {
        "id": "ifR_2lMuMKA9"
      },
      "execution_count": null,
      "outputs": []
    },
    {
      "cell_type": "code",
      "source": [
        "?x.issubset"
      ],
      "metadata": {
        "id": "42harErHMVbc"
      },
      "execution_count": null,
      "outputs": []
    },
    {
      "cell_type": "code",
      "source": [
        "x.issubset(y)"
      ],
      "metadata": {
        "id": "gKdkZ_m2MyFO"
      },
      "execution_count": null,
      "outputs": []
    },
    {
      "cell_type": "code",
      "source": [
        "x.issuperset(y)"
      ],
      "metadata": {
        "id": "DPIEJ5sCNCuZ"
      },
      "execution_count": null,
      "outputs": []
    },
    {
      "cell_type": "code",
      "source": [
        "x"
      ],
      "metadata": {
        "id": "RfOe6fceODbS"
      },
      "execution_count": null,
      "outputs": []
    },
    {
      "cell_type": "code",
      "source": [
        "x.pop()"
      ],
      "metadata": {
        "id": "zimzLLYYOSBb"
      },
      "execution_count": null,
      "outputs": []
    },
    {
      "cell_type": "code",
      "source": [
        "x"
      ],
      "metadata": {
        "id": "b3NXZM5RPSzH"
      },
      "execution_count": null,
      "outputs": []
    },
    {
      "cell_type": "code",
      "source": [
        "x.remove(\"apple\")"
      ],
      "metadata": {
        "id": "vCN6bhq2PYqS"
      },
      "execution_count": null,
      "outputs": []
    },
    {
      "cell_type": "code",
      "source": [
        "x"
      ],
      "metadata": {
        "id": "yFqBzkE0QZK8"
      },
      "execution_count": null,
      "outputs": []
    },
    {
      "cell_type": "code",
      "source": [
        "#discard and reomeve raise exception"
      ],
      "metadata": {
        "id": "Kr7suNuCQZyl"
      },
      "execution_count": null,
      "outputs": []
    },
    {
      "cell_type": "code",
      "source": [
        "x.remove(\"cat\")"
      ],
      "metadata": {
        "id": "zkV_54W6QmA0"
      },
      "execution_count": null,
      "outputs": []
    },
    {
      "cell_type": "code",
      "source": [
        "x.discard(\"man\")"
      ],
      "metadata": {
        "id": "xe07PzSmQo8c"
      },
      "execution_count": null,
      "outputs": []
    },
    {
      "cell_type": "code",
      "source": [
        "x"
      ],
      "metadata": {
        "id": "8WyY5PpbQteI"
      },
      "execution_count": null,
      "outputs": []
    },
    {
      "cell_type": "code",
      "source": [
        "?x.symmetric_difference"
      ],
      "metadata": {
        "id": "PQL8_1OJQujN"
      },
      "execution_count": null,
      "outputs": []
    },
    {
      "cell_type": "code",
      "source": [
        "x.symmetric_difference(y)"
      ],
      "metadata": {
        "id": "u4pb3n5ERIGI"
      },
      "execution_count": null,
      "outputs": []
    },
    {
      "cell_type": "code",
      "source": [
        "s={1,1,2,3,4,5,6,6}"
      ],
      "metadata": {
        "id": "6_efBURcRTvu"
      },
      "execution_count": null,
      "outputs": []
    },
    {
      "cell_type": "code",
      "source": [
        "s"
      ],
      "metadata": {
        "id": "_IIAF2eBRexX"
      },
      "execution_count": null,
      "outputs": []
    },
    {
      "cell_type": "code",
      "source": [
        "?x.symmetric_difference_update"
      ],
      "metadata": {
        "id": "XF5Sj-_rRfY9"
      },
      "execution_count": null,
      "outputs": []
    },
    {
      "cell_type": "code",
      "source": [
        "x.symmetric_difference_update(y)"
      ],
      "metadata": {
        "id": "ibyKO2m6R2x6"
      },
      "execution_count": null,
      "outputs": []
    },
    {
      "cell_type": "code",
      "source": [
        "x"
      ],
      "metadata": {
        "id": "yxkKLhTOR8pj"
      },
      "execution_count": null,
      "outputs": []
    },
    {
      "cell_type": "code",
      "source": [
        "#symmetric_difference is create new set of elements\n",
        "#symmetric_difference_update is update the elemnts inside inself of set"
      ],
      "metadata": {
        "id": "pIm5IjoZR-bb"
      },
      "execution_count": null,
      "outputs": []
    },
    {
      "cell_type": "code",
      "source": [
        "#union\n",
        "?x.union"
      ],
      "metadata": {
        "id": "EMxEEdEBSkSx"
      },
      "execution_count": null,
      "outputs": []
    },
    {
      "cell_type": "code",
      "source": [
        "z={\"a\",\"b\"}"
      ],
      "metadata": {
        "id": "9doFcFY6TRnk"
      },
      "execution_count": null,
      "outputs": []
    },
    {
      "cell_type": "code",
      "source": [
        "x.union(y,z)"
      ],
      "metadata": {
        "id": "5PNGMoEsSo6A"
      },
      "execution_count": null,
      "outputs": []
    },
    {
      "cell_type": "code",
      "source": [
        "#update\n",
        "x.update(y)"
      ],
      "metadata": {
        "id": "g0IB8VNYSzyT"
      },
      "execution_count": null,
      "outputs": []
    },
    {
      "cell_type": "code",
      "source": [
        "x"
      ],
      "metadata": {
        "id": "XeY52p9VTqBO"
      },
      "execution_count": null,
      "outputs": []
    },
    {
      "cell_type": "code",
      "source": [
        "x.add(\"t\")"
      ],
      "metadata": {
        "id": "8wbruLxBTu9q"
      },
      "execution_count": null,
      "outputs": []
    },
    {
      "cell_type": "code",
      "source": [
        "x"
      ],
      "metadata": {
        "id": "MC02GLQ9UA0L"
      },
      "execution_count": null,
      "outputs": []
    },
    {
      "cell_type": "code",
      "source": [],
      "metadata": {
        "id": "zB32oLqhUBgT"
      },
      "execution_count": null,
      "outputs": []
    }
  ]
}