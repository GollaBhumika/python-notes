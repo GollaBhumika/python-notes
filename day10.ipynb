{
  "nbformat": 4,
  "nbformat_minor": 0,
  "metadata": {
    "colab": {
      "private_outputs": true,
      "provenance": []
    },
    "kernelspec": {
      "name": "python3",
      "display_name": "Python 3"
    },
    "language_info": {
      "name": "python"
    }
  },
  "cells": [
    {
      "cell_type": "code",
      "source": [
        "class Add:\n",
        "    pass\n",
        "obj1=Add()"
      ],
      "metadata": {
        "id": "5Gg_frdwAXqk"
      },
      "execution_count": null,
      "outputs": []
    },
    {
      "cell_type": "code",
      "source": [
        "def fun():\n",
        "    pass"
      ],
      "metadata": {
        "id": "bRb_XPcEA7kb"
      },
      "execution_count": null,
      "outputs": []
    },
    {
      "cell_type": "code",
      "source": [
        "class car:\n",
        "    def __init__(self,a,b):\n",
        "        self.a=a\n",
        "        self.b=b\n",
        "    def sum(self):\n",
        "        print(self.a+self.b)\n",
        "obj1=car(2,3)\n",
        "obj2=car(5,6)\n",
        "obj1.sum()\n",
        "obj2.sum()\n"
      ],
      "metadata": {
        "id": "q7J1DE1cBEPT"
      },
      "execution_count": null,
      "outputs": []
    },
    {
      "cell_type": "code",
      "source": [
        "class Car:\n",
        "    wheels = 4\n",
        "    lights = 2\n",
        "print(Car.wheels)\n",
        "print(Car.lights)\n",
        "wheels = 5"
      ],
      "metadata": {
        "id": "jpMwpFExBmkA"
      },
      "execution_count": null,
      "outputs": []
    },
    {
      "cell_type": "code",
      "source": [
        "class Car:\n",
        "    wheels = 4\n",
        "    lights = 2\n",
        "obj1=Car\n",
        "obj1.wheels = 5\n",
        "print(Car.wheels)\n",
        "print(Car.lights)"
      ],
      "metadata": {
        "id": "kWbGSp6lDZLQ"
      },
      "execution_count": null,
      "outputs": []
    },
    {
      "cell_type": "code",
      "source": [
        "#in order to update the value with this object is not updated\n",
        "#but we can update the value with in class"
      ],
      "metadata": {
        "id": "yngxFdloD8pa"
      },
      "execution_count": null,
      "outputs": []
    },
    {
      "cell_type": "code",
      "source": [
        "#i want compare two values?"
      ],
      "metadata": {
        "id": "mCzgzaM7ExLI"
      },
      "execution_count": null,
      "outputs": []
    },
    {
      "cell_type": "code",
      "source": [
        "a=2\n",
        "b=3\n",
        "a.compare(b)"
      ],
      "metadata": {
        "id": "8Vgls4e_E3m0"
      },
      "execution_count": null,
      "outputs": []
    },
    {
      "cell_type": "code",
      "source": [
        "class College:\n",
        "    def __init__(self):\n",
        "        self.name=\"ganesh\"\n",
        "        self.age=35 #age is varibale assign to 35\n",
        "    def compare(self,other): #method and function both are same\n",
        "        if self.age==other.age:\n",
        "            return True\n",
        "        else:\n",
        "            return False\n",
        "obj1=College()\n",
        "obj1.age=30 #outsde class\n",
        "obj2=College()\n",
        "if obj1.compare(obj2):\n",
        "    print(\"they are same\")\n",
        "else:\n",
        "    print(\"they are not same\")\n",
        "print(obj1.name)"
      ],
      "metadata": {
        "id": "FtPaOUXsFNZU"
      },
      "execution_count": null,
      "outputs": []
    },
    {
      "cell_type": "code",
      "source": [
        "#dunder methods (or) magic methods\n",
        "dir(object)"
      ],
      "metadata": {
        "id": "qwsRK016GROs"
      },
      "execution_count": null,
      "outputs": []
    },
    {
      "cell_type": "code",
      "source": [
        "class College:\n",
        "    def __init__(self):\n",
        "        self.name=\"ganesh\"\n",
        "        self.age=35 #age is varibale assign to 35\n",
        "    def compare(self,other): #method and function both are same\n",
        "        if self.age==other.age:\n",
        "            return True\n",
        "        else:\n",
        "            return False\n",
        "obj1=College()\n",
        "obj1.age=30 #outsde class\n",
        "obj2=College()\n",
        "if obj1.compare(obj2):\n",
        "    print(\"they are same\")\n",
        "else:\n",
        "    print(\"they are not same\")\n",
        "print(obj1.name)"
      ],
      "metadata": {
        "id": "SAeRQqCIGTk3"
      },
      "execution_count": null,
      "outputs": []
    },
    {
      "cell_type": "code",
      "source": [
        "#variables:\n",
        "1. instance varibale\n",
        "    #bound an object\n",
        "    #it is always declared with __init__\n",
        "    #not shared by any object every object copy\n",
        "2. class (static) variable\n",
        ""
      ],
      "metadata": {
        "id": "3L3reTkuLxo5"
      },
      "execution_count": null,
      "outputs": []
    },
    {
      "cell_type": "code",
      "source": [
        "class Car:\n",
        "    wheel =4# class or static varible\n",
        "\n",
        "\n",
        "\n",
        "    def __init__(self,music,fuel):\n",
        "        self.music=music\n",
        "        self.fuel=fuel # instnce varible\n",
        "    def car2(self):\n",
        "        print(Car.wheel)\n",
        "obj1=Car(\"id\",\"petrol\")\n",
        "obj1.car2()\n",
        "Car.wheel=5"
      ],
      "metadata": {
        "id": "PBHf3CBML9o5"
      },
      "execution_count": null,
      "outputs": []
    },
    {
      "cell_type": "code",
      "source": [
        "#methods (or) bahaviour\n",
        "1. class method\n",
        "    # bound to the class\n",
        "    # it can modify a class state.\n",
        "    # can access only class variables.\n",
        "    # used to create factoty methods\n",
        "2. instance method\n",
        "    #bound of the object of a class\n",
        "    #it can be modify object\n",
        "    #can access and modify both class and instance variable\n",
        "3. static method\n",
        "    #Bound to the class\n",
        "    #it cant modify  a class and object\n",
        "    #cant access or modify the class and instnace varibales\n"
      ],
      "metadata": {
        "id": "ySnKEYU2NMCP"
      },
      "execution_count": null,
      "outputs": []
    },
    {
      "cell_type": "code",
      "source": [
        "class Student:\n",
        "    college= \"ganesh\" #class varible\n",
        "    def __init__(self,m1,m2):\n",
        "        self.m1=m1\n",
        "        self.m2=m2\n",
        "    def avg(self):\n",
        "        return (self.m1+self.m2)/2\n",
        "    @classmethod\n",
        "    def info(cls):\n",
        "        return cls.college\n",
        "    @staticmethod\n",
        "    def info():\n",
        "        print(\"this is class method\")\n",
        "obj1=Student(40,20)\n",
        "obj2=Student(50,20)\n",
        "print(obj1.avg())\n",
        "print(obj2.avg())\n",
        "#print(Student.info())"
      ],
      "metadata": {
        "id": "g_Ta2EAVP7Rk"
      },
      "execution_count": null,
      "outputs": []
    },
    {
      "cell_type": "code",
      "source": [
        "class Student:\n",
        "    college= \"ganesh\" #class varible\n",
        "    def __init__(self,m1,m2):\n",
        "        self.m1=m1\n",
        "        self.m2=m2\n",
        "    def avg(self):\n",
        "        return (self.m1+self.m2)/2\n",
        "    @classmethod\n",
        "    def info(cls,new_cls):\n",
        "        cls.college=new_cls\n",
        "        return cls.college\n",
        "    def set1(self,new):\n",
        "        self.m1=new\n",
        "        return new\n",
        "print(Student.college)\n",
        "Student.info('new_value')\n",
        "obj1=Student(6,3)\n",
        "obj1.avg()"
      ],
      "metadata": {
        "id": "N8lz_f9dRTnM"
      },
      "execution_count": null,
      "outputs": []
    },
    {
      "cell_type": "code",
      "source": [
        "class Student:\n",
        "    college= \"ganesh\" #class varible\n",
        "    def __init__(self,m1,m2):\n",
        "        self.m1=m1\n",
        "        self.m2=m2\n"
      ],
      "metadata": {
        "id": "FwUPLCr4VE-H"
      },
      "execution_count": null,
      "outputs": []
    }
  ]
}