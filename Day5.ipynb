{
  "nbformat": 4,
  "nbformat_minor": 0,
  "metadata": {
    "colab": {
      "private_outputs": true,
      "provenance": []
    },
    "kernelspec": {
      "name": "python3",
      "display_name": "Python 3"
    },
    "language_info": {
      "name": "python"
    }
  },
  "cells": [
    {
      "cell_type": "markdown",
      "source": [
        "#1.\n",
        "input \"1/2/3/4\"\n",
        "\n",
        "the expected output is [1,2,3,4]"
      ],
      "metadata": {
        "id": "jlLJ_0Bf4gv7"
      }
    },
    {
      "cell_type": "code",
      "source": [
        "str1=\"1/2/3/4\" #immtable type\n",
        "b=[] #mutable datatype\n",
        "for i in str1.split(\"/\"):\n",
        "    #if i.isdigit():\n",
        "    b.append(int(i))\n",
        "print(b)"
      ],
      "metadata": {
        "id": "BQt-R4jy4iWd"
      },
      "execution_count": null,
      "outputs": []
    },
    {
      "cell_type": "markdown",
      "source": [
        "#2.\n",
        "input \"1/2/3/4/ganesh\"\n",
        "\n",
        "the expected outupt is [1,2,3,4,\"GANESH\"]"
      ],
      "metadata": {
        "id": "PBStDt524k3j"
      }
    },
    {
      "cell_type": "code",
      "source": [
        "str2= \"1/2/3/4/ganesh\"\n",
        "b=[] #mutable datatype\n",
        "for i in str2.split(\"/\"):\n",
        "    #print(i,end=\"\")\n",
        "    if i.isdigit():\n",
        "        b.append(int(i))\n",
        "    else:\n",
        "        b.append(i.upper())\n",
        "print(b)\n",
        "#[1,2,3,4,\"GANESH\"]"
      ],
      "metadata": {
        "id": "ADh70Mwt4wVU"
      },
      "execution_count": null,
      "outputs": []
    },
    {
      "cell_type": "code",
      "source": [
        "#tuple is immutable\n",
        "t=(1,)"
      ],
      "metadata": {
        "id": "w31BPcyPBYpo"
      },
      "execution_count": null,
      "outputs": []
    },
    {
      "cell_type": "code",
      "source": [
        "#we can pass inside values with user input"
      ],
      "metadata": {
        "id": "nEe82vcdDt4L"
      },
      "execution_count": null,
      "outputs": []
    },
    {
      "cell_type": "code",
      "source": [
        "w=tuple(input().split())"
      ],
      "metadata": {
        "id": "-fin2APGDwyB"
      },
      "execution_count": null,
      "outputs": []
    },
    {
      "cell_type": "code",
      "source": [
        "tup=(1,2,3,4)"
      ],
      "metadata": {
        "id": "lQLcwWjgELEL"
      },
      "execution_count": null,
      "outputs": []
    },
    {
      "cell_type": "code",
      "source": [
        "tup"
      ],
      "metadata": {
        "id": "5kBAh88kEqUr"
      },
      "execution_count": null,
      "outputs": []
    },
    {
      "cell_type": "code",
      "source": [
        "#python dictionary"
      ],
      "metadata": {
        "id": "YGWjZ6icEvCJ"
      },
      "execution_count": null,
      "outputs": []
    },
    {
      "cell_type": "code",
      "source": [
        "d=set({})"
      ],
      "metadata": {
        "id": "_QcjmUQtE7v2"
      },
      "execution_count": null,
      "outputs": []
    },
    {
      "cell_type": "code",
      "source": [
        "type(d)"
      ],
      "metadata": {
        "id": "SOKfV6O1FKXr"
      },
      "execution_count": null,
      "outputs": []
    },
    {
      "cell_type": "code",
      "source": [
        "e={}"
      ],
      "metadata": {
        "id": "-tVXfl_NFMGH"
      },
      "execution_count": null,
      "outputs": []
    },
    {
      "cell_type": "code",
      "source": [
        "#mutable datatype\n",
        "#elemets unoredered\n",
        "#we dont have any index intead of keys\n",
        "#{key1: value1, key2: value2}"
      ],
      "metadata": {
        "id": "ynRaH5a0FZuJ"
      },
      "execution_count": null,
      "outputs": []
    },
    {
      "cell_type": "markdown",
      "source": [
        "syntax: {key1: value1, key2: value2}"
      ],
      "metadata": {
        "id": "liGOLTnUGOLI"
      }
    },
    {
      "cell_type": "code",
      "source": [
        "p={20:\"a\",30:\"b\",40:\"c\"}"
      ],
      "metadata": {
        "id": "-esZrHi6GQNI"
      },
      "execution_count": null,
      "outputs": []
    },
    {
      "cell_type": "code",
      "source": [
        "p"
      ],
      "metadata": {
        "id": "dv2UYcaOGbmz"
      },
      "execution_count": null,
      "outputs": []
    },
    {
      "cell_type": "code",
      "source": [
        "print(p)"
      ],
      "metadata": {
        "id": "ZE5t5NwyGref"
      },
      "execution_count": null,
      "outputs": []
    },
    {
      "cell_type": "code",
      "source": [
        "#key features of the dictionary immutable\n",
        "#the key of the dict. cananot be changed.\n",
        "#a string, int, float can be used as key.\n",
        "#a tuple is that doent conatin any list can be used as a key\n",
        "#keys are unique.\n",
        "#values can be anything, for example list, string, int and so on\n",
        "#list and dictionary very popular data types.\n",
        "#values can be repeated.\n",
        "#values can be changed these are mutable datatypes"
      ],
      "metadata": {
        "id": "ThcWCxQdGccR"
      },
      "execution_count": null,
      "outputs": []
    },
    {
      "cell_type": "code",
      "source": [
        "d1={\"I\": \"ibm\", \"A\": \"Apple\", \"M\":\"Microsoft\", \"F\":\"facebook\"}"
      ],
      "metadata": {
        "id": "QX7q7QGgIFzh"
      },
      "execution_count": null,
      "outputs": []
    },
    {
      "cell_type": "code",
      "source": [
        "d1"
      ],
      "metadata": {
        "id": "FNDIAg55IayQ"
      },
      "execution_count": null,
      "outputs": []
    },
    {
      "cell_type": "code",
      "source": [
        "#tuple as key\n",
        "d2={(1,2):\"primary key\"}"
      ],
      "metadata": {
        "id": "Fz7TwGK2Idvq"
      },
      "execution_count": null,
      "outputs": []
    },
    {
      "cell_type": "code",
      "source": [
        "d2"
      ],
      "metadata": {
        "id": "YbuUPPkYIng7"
      },
      "execution_count": null,
      "outputs": []
    },
    {
      "cell_type": "code",
      "source": [
        "dir(d2)"
      ],
      "metadata": {
        "id": "9mHhHJtnIo4n"
      },
      "execution_count": null,
      "outputs": []
    },
    {
      "cell_type": "code",
      "source": [
        "#cant use list as a key"
      ],
      "metadata": {
        "id": "IwZsCeZHIwRp"
      },
      "execution_count": null,
      "outputs": []
    },
    {
      "cell_type": "code",
      "source": [
        "d3={[1,2]:\"primary key\"}"
      ],
      "metadata": {
        "id": "WxjSM0bKJAks"
      },
      "execution_count": null,
      "outputs": []
    },
    {
      "cell_type": "code",
      "source": [
        "d4={1:[1,2,3]}"
      ],
      "metadata": {
        "id": "jFJmXzuzJe9_"
      },
      "execution_count": null,
      "outputs": []
    },
    {
      "cell_type": "code",
      "source": [
        "d4"
      ],
      "metadata": {
        "id": "62iVjVk6JkuL"
      },
      "execution_count": null,
      "outputs": []
    },
    {
      "cell_type": "code",
      "source": [
        "tp1=(1,2,[])"
      ],
      "metadata": {
        "id": "3DXTcJF6Jp5Z"
      },
      "execution_count": null,
      "outputs": []
    },
    {
      "cell_type": "code",
      "source": [
        "tp1.append(20)"
      ],
      "metadata": {
        "id": "gHznSmLhJ2Ng"
      },
      "execution_count": null,
      "outputs": []
    },
    {
      "cell_type": "code",
      "source": [
        "tp1[2].append(20)"
      ],
      "metadata": {
        "id": "i16b5GE0J96n"
      },
      "execution_count": null,
      "outputs": []
    },
    {
      "cell_type": "code",
      "source": [
        "tp1"
      ],
      "metadata": {
        "id": "5M3Q8f5nKK4m"
      },
      "execution_count": null,
      "outputs": []
    },
    {
      "cell_type": "code",
      "source": [
        "d2={\"I\": \"ibm\", \"A\": \"Apple\", \"M\":\"Microsoft\", \"F\":\"facebook\",\"A\":\"apple\"}"
      ],
      "metadata": {
        "id": "RCFPWPQTKLpB"
      },
      "execution_count": null,
      "outputs": []
    },
    {
      "cell_type": "code",
      "source": [
        "d2"
      ],
      "metadata": {
        "id": "htuvNDTRKiEz"
      },
      "execution_count": null,
      "outputs": []
    },
    {
      "cell_type": "code",
      "source": [
        "d3={\"I\": \"ibm\", \"A\": \"Apple\", \"M\":\"Microsoft\", \"F\":\"facebook\",\"f\":\"facebook\"}"
      ],
      "metadata": {
        "id": "magerc1AKwv3"
      },
      "execution_count": null,
      "outputs": []
    },
    {
      "cell_type": "code",
      "source": [
        "d3"
      ],
      "metadata": {
        "id": "8MM2TfOPK5Me"
      },
      "execution_count": null,
      "outputs": []
    },
    {
      "cell_type": "code",
      "source": [
        "#operations on the dict.\n",
        "#accessing the values of dictionary\n",
        "#deleting an item from the dict.\n",
        "#updating the values of the dict.\n",
        "#adding the item of to the dict.\n"
      ],
      "metadata": {
        "id": "I91Q0YYxK-OY"
      },
      "execution_count": null,
      "outputs": []
    },
    {
      "cell_type": "code",
      "source": [
        "#accessing the values of dictionary\n",
        "d3"
      ],
      "metadata": {
        "id": "ygccBdh1LeQ5"
      },
      "execution_count": null,
      "outputs": []
    },
    {
      "cell_type": "code",
      "source": [
        "print(d3[\"I\"])"
      ],
      "metadata": {
        "id": "nFAonJJkLiKr"
      },
      "execution_count": null,
      "outputs": []
    },
    {
      "cell_type": "code",
      "source": [
        "d3[\"M\"] # same d3['M']"
      ],
      "metadata": {
        "id": "PubziejcLxtz"
      },
      "execution_count": null,
      "outputs": []
    },
    {
      "cell_type": "code",
      "source": [
        "d3[\"D\"]"
      ],
      "metadata": {
        "id": "z-vo0abGL1gZ"
      },
      "execution_count": null,
      "outputs": []
    },
    {
      "cell_type": "markdown",
      "source": [
        "#deleting an item from the dict."
      ],
      "metadata": {
        "id": "-RSpxNoHMQky"
      }
    },
    {
      "cell_type": "code",
      "source": [
        "del d3[\"I\"]"
      ],
      "metadata": {
        "id": "pTG-wEQgMJEQ"
      },
      "execution_count": null,
      "outputs": []
    },
    {
      "cell_type": "code",
      "source": [
        "d3"
      ],
      "metadata": {
        "id": "QuhU1FmOMRYU"
      },
      "execution_count": null,
      "outputs": []
    },
    {
      "cell_type": "code",
      "source": [
        "#adding and updating the values of the dict\n",
        "d3[\"G\"]=\"google\""
      ],
      "metadata": {
        "id": "mYjmAteUMZUo"
      },
      "execution_count": null,
      "outputs": []
    },
    {
      "cell_type": "code",
      "source": [
        "d3"
      ],
      "metadata": {
        "id": "-sN-ci3nMyBa"
      },
      "execution_count": null,
      "outputs": []
    },
    {
      "cell_type": "code",
      "source": [
        "print(d3)"
      ],
      "metadata": {
        "id": "DdBkhor3M9Ai"
      },
      "execution_count": null,
      "outputs": []
    },
    {
      "cell_type": "code",
      "source": [
        "dir(d3)"
      ],
      "metadata": {
        "id": "7V1PAPeTNLEp"
      },
      "execution_count": null,
      "outputs": []
    },
    {
      "cell_type": "code",
      "source": [
        "str1='wr'"
      ],
      "metadata": {
        "id": "OpuuCohTNyEV"
      },
      "execution_count": null,
      "outputs": []
    },
    {
      "cell_type": "code",
      "source": [
        "str1."
      ],
      "metadata": {
        "id": "a2uQzvW5QiAQ"
      },
      "execution_count": null,
      "outputs": []
    },
    {
      "cell_type": "code",
      "source": [
        "#copy\n",
        "d3"
      ],
      "metadata": {
        "id": "tTHLfKT2N2sT"
      },
      "execution_count": null,
      "outputs": []
    },
    {
      "cell_type": "code",
      "source": [
        "d4=d3"
      ],
      "metadata": {
        "id": "0WWl4mNiODo7"
      },
      "execution_count": null,
      "outputs": []
    },
    {
      "cell_type": "code",
      "source": [
        "d4"
      ],
      "metadata": {
        "id": "4fvD8CatOHBS"
      },
      "execution_count": null,
      "outputs": []
    },
    {
      "cell_type": "code",
      "source": [
        "d5=d4.copy()"
      ],
      "metadata": {
        "id": "EN9RQ23hOK_O"
      },
      "execution_count": null,
      "outputs": []
    },
    {
      "cell_type": "code",
      "source": [
        "d5"
      ],
      "metadata": {
        "id": "pYaQsk_DOSdI"
      },
      "execution_count": null,
      "outputs": []
    },
    {
      "cell_type": "code",
      "source": [
        "d4[\"o\"]=\"orange\""
      ],
      "metadata": {
        "id": "tAn3123qOTQB"
      },
      "execution_count": null,
      "outputs": []
    },
    {
      "cell_type": "code",
      "source": [
        "d4"
      ],
      "metadata": {
        "id": "n6WzTh4aOccQ"
      },
      "execution_count": null,
      "outputs": []
    },
    {
      "cell_type": "code",
      "source": [
        "d5."
      ],
      "metadata": {
        "id": "eaMMQReqOeQB"
      },
      "execution_count": null,
      "outputs": []
    },
    {
      "cell_type": "code",
      "source": [
        "#it is different when we add key value the duplicate dict. cant update"
      ],
      "metadata": {
        "id": "L0Q3WJJ4Oh3l"
      },
      "execution_count": null,
      "outputs": []
    },
    {
      "cell_type": "code",
      "source": [
        "#get\n",
        "print(d4[\"o\"])"
      ],
      "metadata": {
        "id": "bVyqs1dIO25p"
      },
      "execution_count": null,
      "outputs": []
    },
    {
      "cell_type": "code",
      "source": [
        "print(d4[\"g\"])"
      ],
      "metadata": {
        "id": "B-XrCF6NPAa5"
      },
      "execution_count": null,
      "outputs": []
    },
    {
      "cell_type": "code",
      "source": [
        "'g' in d3"
      ],
      "metadata": {
        "id": "ieceeZaoPFmQ"
      },
      "execution_count": null,
      "outputs": []
    },
    {
      "cell_type": "code",
      "source": [
        "'G' in d3"
      ],
      "metadata": {
        "id": "HsD10BOSPLL7"
      },
      "execution_count": null,
      "outputs": []
    },
    {
      "cell_type": "code",
      "source": [
        "#wasting four lines of code\n",
        "k=input(\"enter the key: \")\n",
        "if k in d3:\n",
        "    print(d3[k])\n",
        "else:\n",
        "    print(\"not found\")"
      ],
      "metadata": {
        "id": "Ej1-7ZbfSUkW"
      },
      "execution_count": null,
      "outputs": []
    },
    {
      "cell_type": "code",
      "source": [
        "d3.get('G')"
      ],
      "metadata": {
        "id": "gtN5pDtHZSMw"
      },
      "execution_count": null,
      "outputs": []
    },
    {
      "cell_type": "code",
      "source": [
        "d3.get('g')\n",
        "#not found or None"
      ],
      "metadata": {
        "id": "v65ROvrNZnhr"
      },
      "execution_count": null,
      "outputs": []
    },
    {
      "cell_type": "code",
      "source": [
        "print(d3.get('G', \"not in database\"))"
      ],
      "metadata": {
        "id": "J-rXBIg7Zwan"
      },
      "execution_count": null,
      "outputs": []
    },
    {
      "cell_type": "code",
      "source": [
        "d3."
      ],
      "metadata": {
        "id": "Lk5rtCIYaRzX"
      },
      "execution_count": null,
      "outputs": []
    },
    {
      "cell_type": "markdown",
      "source": [
        "\n",
        "#Items\n",
        "\n"
      ],
      "metadata": {
        "id": "WaCbm6w9bGcv"
      }
    },
    {
      "cell_type": "code",
      "source": [
        "d3.items()"
      ],
      "metadata": {
        "id": "YKltX9ZaanUN"
      },
      "execution_count": null,
      "outputs": []
    },
    {
      "cell_type": "markdown",
      "source": [
        "#Keys"
      ],
      "metadata": {
        "id": "jCVhZNRWbMIV"
      }
    },
    {
      "cell_type": "code",
      "source": [
        "print(d3.keys())"
      ],
      "metadata": {
        "id": "kl4ZRk9Yay6M"
      },
      "execution_count": null,
      "outputs": []
    },
    {
      "cell_type": "markdown",
      "source": [
        "#pop"
      ],
      "metadata": {
        "id": "eL0iHaRpbr_M"
      }
    },
    {
      "cell_type": "code",
      "source": [
        "d3.pop('A')"
      ],
      "metadata": {
        "id": "P4z1RCbsbPCi"
      },
      "execution_count": null,
      "outputs": []
    },
    {
      "cell_type": "code",
      "source": [
        "d3"
      ],
      "metadata": {
        "id": "1nDgST15bdHr"
      },
      "execution_count": null,
      "outputs": []
    },
    {
      "cell_type": "markdown",
      "source": [
        "#popitem"
      ],
      "metadata": {
        "id": "nlZqmC_JcClQ"
      }
    },
    {
      "cell_type": "code",
      "source": [
        "d3.popitem()"
      ],
      "metadata": {
        "id": "lMlvzaimbt_p"
      },
      "execution_count": null,
      "outputs": []
    },
    {
      "cell_type": "code",
      "source": [
        "d3"
      ],
      "metadata": {
        "id": "KCAd2ZgAbi8b"
      },
      "execution_count": null,
      "outputs": []
    },
    {
      "cell_type": "markdown",
      "source": [
        "#update: values of two dictionaries"
      ],
      "metadata": {
        "id": "-MKNC0jEcU7C"
      }
    },
    {
      "cell_type": "code",
      "source": [
        "dt1={1:\"A\",2:\"B\"}\n",
        "dt2={3:\"C\",4:\"D\"}"
      ],
      "metadata": {
        "id": "ApdNhq60b-9x"
      },
      "execution_count": null,
      "outputs": []
    },
    {
      "cell_type": "code",
      "source": [
        "dt1"
      ],
      "metadata": {
        "id": "w8fOmCdWclu8"
      },
      "execution_count": null,
      "outputs": []
    },
    {
      "cell_type": "code",
      "source": [
        "dt1.update(dt2)"
      ],
      "metadata": {
        "id": "M587DQcVcnsF"
      },
      "execution_count": null,
      "outputs": []
    },
    {
      "cell_type": "code",
      "source": [
        "dt1"
      ],
      "metadata": {
        "id": "9RDfIWrxcxbn"
      },
      "execution_count": null,
      "outputs": []
    },
    {
      "cell_type": "code",
      "source": [
        "#mistake"
      ],
      "metadata": {
        "id": "4X7MzImEczD7"
      },
      "execution_count": null,
      "outputs": []
    },
    {
      "cell_type": "code",
      "source": [
        "dt1"
      ],
      "metadata": {
        "id": "kMfTuG7tdjXN"
      },
      "execution_count": null,
      "outputs": []
    },
    {
      "cell_type": "code",
      "source": [
        "dt1.update(dt2)"
      ],
      "metadata": {
        "id": "GLJGd928dmdA"
      },
      "execution_count": null,
      "outputs": []
    },
    {
      "cell_type": "code",
      "source": [
        "dt1"
      ],
      "metadata": {
        "id": "jxi65eWxduUI"
      },
      "execution_count": null,
      "outputs": []
    },
    {
      "cell_type": "code",
      "source": [
        "#your next dictionary should not contain same items"
      ],
      "metadata": {
        "id": "Uonn9_52dvlf"
      },
      "execution_count": null,
      "outputs": []
    },
    {
      "cell_type": "markdown",
      "source": [
        "d= 10M items\n",
        "d.keys()\n",
        "in python 2.0 time, space will occupy large"
      ],
      "metadata": {
        "id": "TTU5ul8weUak"
      }
    },
    {
      "cell_type": "code",
      "source": [
        "dt1"
      ],
      "metadata": {
        "id": "2ztzUJuGeW7S"
      },
      "execution_count": null,
      "outputs": []
    },
    {
      "cell_type": "code",
      "source": [
        "dir(dt1)"
      ],
      "metadata": {
        "id": "pE5pOdUCeeNm"
      },
      "execution_count": null,
      "outputs": []
    },
    {
      "cell_type": "code",
      "source": [
        "#fromkeys\n",
        "#values\n",
        "#setdefault"
      ],
      "metadata": {
        "id": "9BbP-NiKepp6"
      },
      "execution_count": null,
      "outputs": []
    },
    {
      "cell_type": "code",
      "source": [
        "dt1.values()"
      ],
      "metadata": {
        "id": "FR7HinV0ey2o"
      },
      "execution_count": null,
      "outputs": []
    },
    {
      "cell_type": "code",
      "source": [
        "import sys"
      ],
      "metadata": {
        "id": "VWpvYm0Ie1Gf"
      },
      "execution_count": null,
      "outputs": []
    },
    {
      "cell_type": "code",
      "source": [
        "dir(sys)"
      ],
      "metadata": {
        "id": "u7zM7UHWguWc"
      },
      "execution_count": null,
      "outputs": []
    },
    {
      "cell_type": "code",
      "source": [
        "sys.getsizeof(dt1.keys())"
      ],
      "metadata": {
        "id": "yWYdOQB-e80U"
      },
      "execution_count": null,
      "outputs": []
    },
    {
      "cell_type": "code",
      "source": [
        "#if add one item still getting 40"
      ],
      "metadata": {
        "id": "NvuItoBrfBtZ"
      },
      "execution_count": null,
      "outputs": []
    },
    {
      "cell_type": "code",
      "source": [
        "dt1[5]=\"E\""
      ],
      "metadata": {
        "id": "xGe8LbVqfQan"
      },
      "execution_count": null,
      "outputs": []
    },
    {
      "cell_type": "code",
      "source": [
        "dt1"
      ],
      "metadata": {
        "id": "ACfcxBPYfTia"
      },
      "execution_count": null,
      "outputs": []
    },
    {
      "cell_type": "code",
      "source": [
        "#python 2.0 it is different"
      ],
      "metadata": {
        "id": "MPBP-KfVfVPI"
      },
      "execution_count": null,
      "outputs": []
    },
    {
      "cell_type": "code",
      "source": [
        "dt1.keys()"
      ],
      "metadata": {
        "id": "zh1k5hcnfe_o"
      },
      "execution_count": null,
      "outputs": []
    },
    {
      "cell_type": "code",
      "source": [
        "for i in dt1.keys():\n",
        "    print(\"these are all keys in dt1\", i)"
      ],
      "metadata": {
        "id": "t5qwda6wffGl"
      },
      "execution_count": null,
      "outputs": []
    },
    {
      "cell_type": "code",
      "source": [
        "1.9"
      ],
      "metadata": {
        "id": "8ZBM4eyxfo_H"
      },
      "execution_count": null,
      "outputs": []
    },
    {
      "cell_type": "code",
      "source": [
        "round(1.9)"
      ],
      "metadata": {
        "id": "_N13NKFygB9j"
      },
      "execution_count": null,
      "outputs": []
    },
    {
      "cell_type": "code",
      "source": [
        "import math\n"
      ],
      "metadata": {
        "id": "ko8MUvItgFdo"
      },
      "execution_count": null,
      "outputs": []
    },
    {
      "cell_type": "code",
      "source": [
        "math.ceil(1.4)"
      ],
      "metadata": {
        "id": "amARMWvBgI57"
      },
      "execution_count": null,
      "outputs": []
    },
    {
      "cell_type": "code",
      "source": [
        "math.floor(1.9)"
      ],
      "metadata": {
        "id": "zIAYArmqgPrB"
      },
      "execution_count": null,
      "outputs": []
    },
    {
      "cell_type": "code",
      "source": [
        "dir(math)"
      ],
      "metadata": {
        "id": "eWKf3Liigcnj"
      },
      "execution_count": null,
      "outputs": []
    },
    {
      "cell_type": "code",
      "source": [
        "for i in dt1.values():\n",
        "    print(\"these are all values in dt1\", i)"
      ],
      "metadata": {
        "id": "JNUftCxpgnyM"
      },
      "execution_count": null,
      "outputs": []
    },
    {
      "cell_type": "code",
      "source": [
        "for i in dt1.items():\n",
        "    print(\"these are all items in dt1\", i)"
      ],
      "metadata": {
        "id": "ES6Ibp5ihErR"
      },
      "execution_count": null,
      "outputs": []
    },
    {
      "cell_type": "code",
      "source": [
        "#standard syntax for loop with dictionary\n",
        "for k,v in dt1.items():\n",
        "    print(k,v)# k, v = each"
      ],
      "metadata": {
        "id": "Tumsf0JthKat"
      },
      "execution_count": null,
      "outputs": []
    },
    {
      "cell_type": "code",
      "source": [
        "for k,v in dt1.items():\n",
        "    if k==3:\n",
        "        del dt1[k]\n",
        "    print(k,v)"
      ],
      "metadata": {
        "id": "h0qg2xbhiSVD"
      },
      "execution_count": null,
      "outputs": []
    },
    {
      "cell_type": "code",
      "source": [
        "#it will work\n",
        "for k,v in list(dt1.items()):\n",
        "    if k==3:\n",
        "        del dt1[k]\n",
        "    print(k,v)"
      ],
      "metadata": {
        "id": "geB9nI3ujAyq"
      },
      "execution_count": null,
      "outputs": []
    },
    {
      "cell_type": "code",
      "source": [
        "print(sys.getsizeof(dt1.items()))"
      ],
      "metadata": {
        "id": "DBfbhaj4jQ26"
      },
      "execution_count": null,
      "outputs": []
    },
    {
      "cell_type": "code",
      "source": [
        "dt1"
      ],
      "metadata": {
        "id": "y6psoiIOjzT2"
      },
      "execution_count": null,
      "outputs": []
    },
    {
      "cell_type": "code",
      "source": [
        "#how to make a dictionary from list"
      ],
      "metadata": {
        "id": "4h2gOJhJjGPK"
      },
      "execution_count": null,
      "outputs": []
    },
    {
      "cell_type": "code",
      "source": [
        "list1=[1,2,3,4]"
      ],
      "metadata": {
        "id": "gEy1f7xrj0BT"
      },
      "execution_count": null,
      "outputs": []
    },
    {
      "cell_type": "code",
      "source": [
        "dict(list1)"
      ],
      "metadata": {
        "id": "mq_CZwG_j8PN"
      },
      "execution_count": null,
      "outputs": []
    },
    {
      "cell_type": "code",
      "source": [
        "list2=[(1, 'A'),(2, 'B'), (3, 'C'), (4, 'D'), (5, 'E')]"
      ],
      "metadata": {
        "id": "xoyICET6kIyA"
      },
      "execution_count": null,
      "outputs": []
    },
    {
      "cell_type": "code",
      "source": [
        "dict(list2)"
      ],
      "metadata": {
        "id": "nPH0Hbskk46_"
      },
      "execution_count": null,
      "outputs": []
    },
    {
      "cell_type": "code",
      "source": [
        "list3=[[1, 'A'],(2, 'B'), (3, 'C'), (4, 'D'), (5, 'E')]"
      ],
      "metadata": {
        "id": "l7r6Rmkgk8-n"
      },
      "execution_count": null,
      "outputs": []
    },
    {
      "cell_type": "code",
      "source": [
        "dict(list3)"
      ],
      "metadata": {
        "id": "LXWJ9D9jlEpB"
      },
      "execution_count": null,
      "outputs": []
    },
    {
      "cell_type": "code",
      "source": [
        "list3=[[1, 'A'],(2, 'B'), (3, 'C'), (4, 'D'), (5, 'E')]"
      ],
      "metadata": {
        "id": "HrfqngBMlK2n"
      },
      "execution_count": null,
      "outputs": []
    },
    {
      "cell_type": "code",
      "source": [
        "list4=[{1: 'A',2:\"B\"}]"
      ],
      "metadata": {
        "id": "33bJ8mPIlmJr"
      },
      "execution_count": null,
      "outputs": []
    },
    {
      "cell_type": "code",
      "source": [
        "list4[0][2]"
      ],
      "metadata": {
        "id": "dyiOPSI0lr_u"
      },
      "execution_count": null,
      "outputs": []
    },
    {
      "cell_type": "code",
      "source": [
        "list4"
      ],
      "metadata": {
        "id": "Hwu8leOnninF"
      },
      "execution_count": null,
      "outputs": []
    },
    {
      "cell_type": "code",
      "source": [
        "dt={1:\"e\"}"
      ],
      "metadata": {
        "id": "2XsQxCs0mDjg"
      },
      "execution_count": null,
      "outputs": []
    },
    {
      "cell_type": "code",
      "source": [
        "dt[2]=\"t\""
      ],
      "metadata": {
        "id": "F5SjX0AWnPFD"
      },
      "execution_count": null,
      "outputs": []
    },
    {
      "cell_type": "code",
      "source": [
        "dt"
      ],
      "metadata": {
        "id": "UpGKickMnTea"
      },
      "execution_count": null,
      "outputs": []
    },
    {
      "cell_type": "code",
      "source": [
        "lit=[1,2,3]"
      ],
      "metadata": {
        "id": "yIeoBKCanXQy"
      },
      "execution_count": null,
      "outputs": []
    },
    {
      "cell_type": "code",
      "source": [
        "lit2=[\"a\",\"b\",\"c\"]"
      ],
      "metadata": {
        "id": "frL6ITBZoiV1"
      },
      "execution_count": null,
      "outputs": []
    },
    {
      "cell_type": "code",
      "source": [
        "lit*lit2"
      ],
      "metadata": {
        "id": "U1UqbD7eokFn"
      },
      "execution_count": null,
      "outputs": []
    },
    {
      "cell_type": "code",
      "source": [
        "len(lit)\n",
        "len(lit2)"
      ],
      "metadata": {
        "id": "f7EqSy9Lol2u"
      },
      "execution_count": null,
      "outputs": []
    },
    {
      "cell_type": "code",
      "source": [
        "min(1,2,3,45,8)"
      ],
      "metadata": {
        "id": "6yomxgVcs3Ly"
      },
      "execution_count": null,
      "outputs": []
    },
    {
      "cell_type": "code",
      "source": [
        "ord(\"q\")"
      ],
      "metadata": {
        "id": "s9c6GmLAtlK2"
      },
      "execution_count": null,
      "outputs": []
    },
    {
      "cell_type": "code",
      "source": [
        "max(\"Y\",\"E\",\"q\")"
      ],
      "metadata": {
        "id": "mEGuXABftLMh"
      },
      "execution_count": null,
      "outputs": []
    },
    {
      "cell_type": "code",
      "source": [
        "min()"
      ],
      "metadata": {
        "id": "7LVJHeuwtEo5"
      },
      "execution_count": null,
      "outputs": []
    },
    {
      "cell_type": "code",
      "source": [
        "list3=[{1:'A'},{2:\"B\"}]\n",
        "type(list3)"
      ],
      "metadata": {
        "id": "sNxFJUrFpBAI"
      },
      "execution_count": null,
      "outputs": []
    },
    {
      "cell_type": "code",
      "source": [
        "l=10,10"
      ],
      "metadata": {
        "id": "qi6WjaqgpPpN"
      },
      "execution_count": null,
      "outputs": []
    },
    {
      "cell_type": "code",
      "source": [
        "type(l)"
      ],
      "metadata": {
        "id": "Mq2amcQ-pUK1"
      },
      "execution_count": null,
      "outputs": []
    },
    {
      "cell_type": "code",
      "source": [
        "list3=[[{1:'A'}],[{2:\"B\"}]]\n",
        "type(list3)"
      ],
      "metadata": {
        "id": "SCPQnt37pbVw"
      },
      "execution_count": null,
      "outputs": []
    },
    {
      "cell_type": "code",
      "source": [
        "t=10\n",
        "type(t)"
      ],
      "metadata": {
        "id": "NN5lYt2ipkCB"
      },
      "execution_count": null,
      "outputs": []
    },
    {
      "cell_type": "code",
      "source": [
        "l=10,\n",
        "type(l)"
      ],
      "metadata": {
        "id": "vOIL7imwpoGx"
      },
      "execution_count": null,
      "outputs": []
    },
    {
      "cell_type": "code",
      "source": [
        "t=(10,)"
      ],
      "metadata": {
        "id": "vPQw9gGpprv8"
      },
      "execution_count": null,
      "outputs": []
    },
    {
      "cell_type": "code",
      "source": [
        "len1=min(len(lit),len(lit2))\n",
        "#{1:\"A\",2:\"B\",3:\"C\"}"
      ],
      "metadata": {
        "id": "3vWFLbR9uiaV"
      },
      "execution_count": null,
      "outputs": []
    },
    {
      "cell_type": "code",
      "source": [
        "len1"
      ],
      "metadata": {
        "id": "kRNVgwPUu-ph"
      },
      "execution_count": null,
      "outputs": []
    },
    {
      "cell_type": "code",
      "source": [
        "lit #keys"
      ],
      "metadata": {
        "id": "DKb4XI3UxSOg"
      },
      "execution_count": null,
      "outputs": []
    },
    {
      "cell_type": "code",
      "source": [
        "lit2 #values"
      ],
      "metadata": {
        "id": "vmiRNfgmxTwe"
      },
      "execution_count": null,
      "outputs": []
    },
    {
      "cell_type": "code",
      "source": [
        "dict4={} #dictionary is mutable\n",
        "for i in range(0,3,1): #0,1,2 range(start=0,stop=n,step=1) range(len1) or range(3)\n",
        "    dict4[lit[i]]=lit2[i] #similar to add single element at time d[2]=\"A\"\n",
        "print(dict4)"
      ],
      "metadata": {
        "id": "t8pEhCdUvFY_"
      },
      "execution_count": null,
      "outputs": []
    },
    {
      "cell_type": "markdown",
      "source": [
        "#The common methods or functions to use any datatypes\n",
        "chr()\n",
        "ord()\n",
        "max()\n",
        "min()\n",
        "len()\n",
        "sorted()"
      ],
      "metadata": {
        "id": "cKfg-P_WqR2M"
      }
    },
    {
      "cell_type": "code",
      "source": [
        "chr(20)"
      ],
      "metadata": {
        "id": "VVymW2ujuRzX"
      },
      "execution_count": null,
      "outputs": []
    },
    {
      "cell_type": "code",
      "source": [
        "#sort vs sorted\n",
        "sort is method only work few datatypes\n",
        "sorted function it works all data types"
      ],
      "metadata": {
        "id": "lKFpb5lGqQ_c"
      },
      "execution_count": null,
      "outputs": []
    },
    {
      "cell_type": "code",
      "source": [
        "dir(lit)"
      ],
      "metadata": {
        "id": "un-rJDtSq04E"
      },
      "execution_count": null,
      "outputs": []
    },
    {
      "cell_type": "code",
      "source": [
        "sorted([1,2,3,2,2,4], reverse=False)"
      ],
      "metadata": {
        "id": "-PnMHsuFrfNm"
      },
      "execution_count": null,
      "outputs": []
    },
    {
      "cell_type": "code",
      "source": [
        "list9=[1,2,3,2,2,4]"
      ],
      "metadata": {
        "id": "M_KA8NyqrmNg"
      },
      "execution_count": null,
      "outputs": []
    },
    {
      "cell_type": "code",
      "source": [
        "list9.sort()"
      ],
      "metadata": {
        "id": "ePVQZAqjrzyQ"
      },
      "execution_count": null,
      "outputs": []
    },
    {
      "cell_type": "code",
      "source": [
        "list9"
      ],
      "metadata": {
        "id": "rEUgSojBr4mh"
      },
      "execution_count": null,
      "outputs": []
    },
    {
      "cell_type": "code",
      "source": [
        "u={1,2,5,4}"
      ],
      "metadata": {
        "id": "JBFt3cBDr6Em"
      },
      "execution_count": null,
      "outputs": []
    },
    {
      "cell_type": "code",
      "source": [
        "dir(u)"
      ],
      "metadata": {
        "id": "ezZrqWVmsGdq"
      },
      "execution_count": null,
      "outputs": []
    },
    {
      "cell_type": "code",
      "source": [
        "sorted(u)"
      ],
      "metadata": {
        "id": "pJfivKT4sM-I"
      },
      "execution_count": null,
      "outputs": []
    },
    {
      "cell_type": "code",
      "source": [
        "#fromkeys"
      ],
      "metadata": {
        "id": "5GHSi1Kwsi7m"
      },
      "execution_count": null,
      "outputs": []
    },
    {
      "cell_type": "code",
      "source": [
        "al={\"a\",\"b\",\"c\"}\n",
        "n =1"
      ],
      "metadata": {
        "id": "Mliwc-M92Eqz"
      },
      "execution_count": null,
      "outputs": []
    },
    {
      "cell_type": "code",
      "source": [
        "d=dict.fromkeys(al,n)"
      ],
      "metadata": {
        "id": "5j7H9w3K2VjG"
      },
      "execution_count": null,
      "outputs": []
    },
    {
      "cell_type": "code",
      "source": [
        "d"
      ],
      "metadata": {
        "id": "lgdO1lbu2b1O"
      },
      "execution_count": null,
      "outputs": []
    },
    {
      "cell_type": "code",
      "source": [
        "a={\"a\",\"e\",\"i\",\"o\"}\n",
        "value=[1,2,3,4]"
      ],
      "metadata": {
        "id": "Cd7Z1ve72cih"
      },
      "execution_count": null,
      "outputs": []
    },
    {
      "cell_type": "code",
      "source": [
        "d=dict.fromkeys(a,value)"
      ],
      "metadata": {
        "id": "WJAaMk_h3M7C"
      },
      "execution_count": null,
      "outputs": []
    },
    {
      "cell_type": "code",
      "source": [
        "d"
      ],
      "metadata": {
        "id": "F10ydNRr3ZH8"
      },
      "execution_count": null,
      "outputs": []
    },
    {
      "cell_type": "code",
      "source": [
        "a1={\"a\",\"e\",\"i\",\"o\",\"u\"}\n",
        "v=[1]"
      ],
      "metadata": {
        "id": "_0Zgx8S83ZvF"
      },
      "execution_count": null,
      "outputs": []
    },
    {
      "cell_type": "code",
      "source": [
        "vow=dict.fromkeys(a1,v)"
      ],
      "metadata": {
        "id": "ZgFO1TyH4Tzn"
      },
      "execution_count": null,
      "outputs": []
    },
    {
      "cell_type": "code",
      "source": [
        "v.append(2)"
      ],
      "metadata": {
        "id": "g5M60vnn4Yd_"
      },
      "execution_count": null,
      "outputs": []
    },
    {
      "cell_type": "code",
      "source": [
        "vow"
      ],
      "metadata": {
        "id": "rmBabg8M4cb8"
      },
      "execution_count": null,
      "outputs": []
    },
    {
      "cell_type": "code",
      "source": [
        "list comprehension\n",
        "set comprehension\n",
        "dictionary comprehension\n",
        "generator comprehension"
      ],
      "metadata": {
        "id": "-i3MZb-44eqi"
      },
      "execution_count": null,
      "outputs": []
    },
    {
      "cell_type": "code",
      "source": [
        "#setdefault method"
      ],
      "metadata": {
        "id": "fFT7xEon4271"
      },
      "execution_count": null,
      "outputs": []
    },
    {
      "cell_type": "code",
      "source": [
        "?d3.setdefault"
      ],
      "metadata": {
        "id": "BEOf0BjQ5SB3"
      },
      "execution_count": null,
      "outputs": []
    },
    {
      "cell_type": "code",
      "source": [
        "d3"
      ],
      "metadata": {
        "id": "cQJy2MFt5UHl"
      },
      "execution_count": null,
      "outputs": []
    },
    {
      "cell_type": "code",
      "source": [
        "#parameters inside setdefault keyname, value"
      ],
      "metadata": {
        "id": "Du8Sr91L5f1V"
      },
      "execution_count": null,
      "outputs": []
    },
    {
      "cell_type": "code",
      "source": [
        "x=d3.setdefault(\"O\", \"orkut\")"
      ],
      "metadata": {
        "id": "yjCnvEsL5sJH"
      },
      "execution_count": null,
      "outputs": []
    },
    {
      "cell_type": "code",
      "source": [
        "x"
      ],
      "metadata": {
        "id": "2jDBzTyx5ztb"
      },
      "execution_count": null,
      "outputs": []
    },
    {
      "cell_type": "code",
      "source": [
        "d3"
      ],
      "metadata": {
        "id": "vDQTBi3X50Wi"
      },
      "execution_count": null,
      "outputs": []
    },
    {
      "cell_type": "code",
      "source": [
        "sorted([1,2,3,22,4])"
      ],
      "metadata": {
        "id": "Zr_iF3lP55K3"
      },
      "execution_count": null,
      "outputs": []
    },
    {
      "cell_type": "code",
      "source": [
        "setdefault(keyname, value)"
      ],
      "metadata": {
        "id": "9O16JP3y72Lw"
      },
      "execution_count": null,
      "outputs": []
    },
    {
      "cell_type": "code",
      "source": [
        "d3[\"O\"]"
      ],
      "metadata": {
        "id": "pm3zT5ub8XHc"
      },
      "execution_count": null,
      "outputs": []
    },
    {
      "cell_type": "code",
      "source": [
        "p={\"a\":1,\"b\":2}"
      ],
      "metadata": {
        "id": "kaRC79jZ8ZRY"
      },
      "execution_count": null,
      "outputs": []
    },
    {
      "cell_type": "code",
      "source": [
        "a=p.setdefault(\"b\")"
      ],
      "metadata": {
        "id": "AryT07r780ZJ"
      },
      "execution_count": null,
      "outputs": []
    },
    {
      "cell_type": "code",
      "source": [
        "print(\"p\", p)"
      ],
      "metadata": {
        "id": "6EMW5ZSb89BW"
      },
      "execution_count": null,
      "outputs": []
    },
    {
      "cell_type": "code",
      "source": [
        "print(\"a\",a)"
      ],
      "metadata": {
        "id": "jeHLXCDR9A37"
      },
      "execution_count": null,
      "outputs": []
    },
    {
      "cell_type": "code",
      "source": [
        "s=p.setdefault(\"c\")"
      ],
      "metadata": {
        "id": "aHHC1SIy9UOz"
      },
      "execution_count": null,
      "outputs": []
    },
    {
      "cell_type": "code",
      "source": [
        "print(s)"
      ],
      "metadata": {
        "id": "1rEjxUje9aV1"
      },
      "execution_count": null,
      "outputs": []
    },
    {
      "cell_type": "code",
      "source": [
        "d=p.setdefault(3,\"c\")"
      ],
      "metadata": {
        "id": "wOD6nHmw9gzC"
      },
      "execution_count": null,
      "outputs": []
    },
    {
      "cell_type": "code",
      "source": [
        "print(d)"
      ],
      "metadata": {
        "id": "ulwbqoPz9u94"
      },
      "execution_count": null,
      "outputs": []
    },
    {
      "cell_type": "code",
      "source": [
        "9/2 #division"
      ],
      "metadata": {
        "id": "HPa3AOss9yV4"
      },
      "execution_count": null,
      "outputs": []
    },
    {
      "cell_type": "code",
      "source": [
        "9%2 #remainder"
      ],
      "metadata": {
        "id": "yfGELUs1-LdX"
      },
      "execution_count": null,
      "outputs": []
    },
    {
      "cell_type": "code",
      "source": [
        "9//2 #modulus divison"
      ],
      "metadata": {
        "id": "7apETaKR-ngE"
      },
      "execution_count": null,
      "outputs": []
    },
    {
      "cell_type": "code",
      "source": [
        "#1. list_=[1,2,3,0,4,0,0,4,5,0,8,0,7] #dont use sorted\n",
        "from above list all zeros print end of the list\n",
        "expected output is [--------------,0,0,0,0,0]"
      ],
      "metadata": {
        "id": "EkSm2m1d-uM6"
      },
      "execution_count": null,
      "outputs": []
    },
    {
      "cell_type": "code",
      "source": [
        "x = 2\n",
        "for i in range(0, 4): #0,1,2,3\n",
        "    if x%2:\n",
        "       x = x*2\n",
        "    else:\n",
        "       x = x+1"
      ],
      "metadata": {
        "id": "dTPGAstTAARz"
      },
      "execution_count": null,
      "outputs": []
    }
  ]
}