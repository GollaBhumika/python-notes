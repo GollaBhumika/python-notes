{
  "nbformat": 4,
  "nbformat_minor": 0,
  "metadata": {
    "colab": {
      "private_outputs": true,
      "provenance": []
    },
    "kernelspec": {
      "name": "python3",
      "display_name": "Python 3"
    },
    "language_info": {
      "name": "python"
    }
  },
  "cells": [
    {
      "cell_type": "code",
      "execution_count": null,
      "metadata": {
        "id": "kSg3uwggMIDb"
      },
      "outputs": [],
      "source": [
        "#opeartors\n",
        "1.assignment\n",
        "2. arthmetic\n",
        "3. bitwise\n",
        "4. logical\n",
        "5. relational(comparison)\n",
        "6. identity\n",
        "7. membership\n",
        "8. unary\n"
      ]
    },
    {
      "cell_type": "code",
      "source": [
        "# arthmetic ----->+,-,*,**,%,//,/"
      ],
      "metadata": {
        "id": "01Y21kntMykY"
      },
      "execution_count": null,
      "outputs": []
    },
    {
      "cell_type": "code",
      "source": [
        "2+3"
      ],
      "metadata": {
        "id": "3-KQsCopM_Tl"
      },
      "execution_count": null,
      "outputs": []
    },
    {
      "cell_type": "code",
      "source": [
        "2-3"
      ],
      "metadata": {
        "id": "bVLAqQv1NBD-"
      },
      "execution_count": null,
      "outputs": []
    },
    {
      "cell_type": "code",
      "source": [
        "2*3"
      ],
      "metadata": {
        "id": "EsO3HVaKNIea"
      },
      "execution_count": null,
      "outputs": []
    },
    {
      "cell_type": "code",
      "source": [
        "2**3\n"
      ],
      "metadata": {
        "id": "djr2rkjINNBY"
      },
      "execution_count": null,
      "outputs": []
    },
    {
      "cell_type": "code",
      "source": [
        "9//2 #floor division"
      ],
      "metadata": {
        "id": "cRLVZKkVNQJf"
      },
      "execution_count": null,
      "outputs": []
    },
    {
      "cell_type": "code",
      "source": [
        "3%2 #remainder"
      ],
      "metadata": {
        "id": "Kj4hDOl_NZRv"
      },
      "execution_count": null,
      "outputs": []
    },
    {
      "cell_type": "code",
      "source": [
        "2/3"
      ],
      "metadata": {
        "id": "nudjdJ41Nfrl"
      },
      "execution_count": null,
      "outputs": []
    },
    {
      "cell_type": "code",
      "source": [
        "# assignment---->(=,+=,-=,*=,/=,%=,//=,**=,&=,^=)"
      ],
      "metadata": {
        "id": "xv_FEdHJNoch"
      },
      "execution_count": null,
      "outputs": []
    },
    {
      "cell_type": "code",
      "source": [
        "x=4"
      ],
      "metadata": {
        "id": "_GDFPrHTN4zf"
      },
      "execution_count": null,
      "outputs": []
    },
    {
      "cell_type": "code",
      "source": [
        "x=x+1"
      ],
      "metadata": {
        "id": "T7zPsmWVN6TQ"
      },
      "execution_count": null,
      "outputs": []
    },
    {
      "cell_type": "code",
      "source": [
        "x"
      ],
      "metadata": {
        "id": "gtkAMn8mN_qc"
      },
      "execution_count": null,
      "outputs": []
    },
    {
      "cell_type": "code",
      "source": [
        "x+=1 #x=x+1  c in i++, ++i"
      ],
      "metadata": {
        "id": "CUcJyGKKOA_1"
      },
      "execution_count": null,
      "outputs": []
    },
    {
      "cell_type": "code",
      "source": [
        "x"
      ],
      "metadata": {
        "id": "bzJtWO-JOF-E"
      },
      "execution_count": null,
      "outputs": []
    },
    {
      "cell_type": "code",
      "source": [
        "x=x-1"
      ],
      "metadata": {
        "id": "GdV2LwMqOHCY"
      },
      "execution_count": null,
      "outputs": []
    },
    {
      "cell_type": "code",
      "source": [
        "x"
      ],
      "metadata": {
        "id": "NvlONfJYOSg7"
      },
      "execution_count": null,
      "outputs": []
    },
    {
      "cell_type": "code",
      "source": [
        "x-=1 #x=x-1"
      ],
      "metadata": {
        "id": "XIE2UvkSOURT"
      },
      "execution_count": null,
      "outputs": []
    },
    {
      "cell_type": "code",
      "source": [
        "x"
      ],
      "metadata": {
        "id": "KmtSz7I_OWPM"
      },
      "execution_count": null,
      "outputs": []
    },
    {
      "cell_type": "code",
      "source": [
        "x=2"
      ],
      "metadata": {
        "id": "O1WjbmXTOXOD"
      },
      "execution_count": null,
      "outputs": []
    },
    {
      "cell_type": "code",
      "source": [
        "y=x"
      ],
      "metadata": {
        "id": "GSip4CccOebi"
      },
      "execution_count": null,
      "outputs": []
    },
    {
      "cell_type": "code",
      "source": [
        "y"
      ],
      "metadata": {
        "id": "ffpr7XAtOihz"
      },
      "execution_count": null,
      "outputs": []
    },
    {
      "cell_type": "code",
      "source": [
        "id(x)"
      ],
      "metadata": {
        "id": "ME6YaygWOjZ9"
      },
      "execution_count": null,
      "outputs": []
    },
    {
      "cell_type": "code",
      "source": [
        "id(y)"
      ],
      "metadata": {
        "id": "z2D9GKZlOoFo"
      },
      "execution_count": null,
      "outputs": []
    },
    {
      "cell_type": "code",
      "source": [
        "y=7"
      ],
      "metadata": {
        "id": "ThjfB0v3OrZV"
      },
      "execution_count": null,
      "outputs": []
    },
    {
      "cell_type": "code",
      "source": [
        "y=y*8"
      ],
      "metadata": {
        "id": "Zc_zcmKcO1sw"
      },
      "execution_count": null,
      "outputs": []
    },
    {
      "cell_type": "code",
      "source": [
        "y"
      ],
      "metadata": {
        "id": "GITrsNBpO-_A"
      },
      "execution_count": null,
      "outputs": []
    },
    {
      "cell_type": "code",
      "source": [
        "y*=8    #y=Y*8"
      ],
      "metadata": {
        "id": "MGIi4Q5fO_aN"
      },
      "execution_count": null,
      "outputs": []
    },
    {
      "cell_type": "code",
      "source": [
        "y"
      ],
      "metadata": {
        "id": "M8wAQJgEPJKL"
      },
      "execution_count": null,
      "outputs": []
    },
    {
      "cell_type": "code",
      "source": [
        "y=y/8 #float division"
      ],
      "metadata": {
        "id": "1-4B_2oVPKJW"
      },
      "execution_count": null,
      "outputs": []
    },
    {
      "cell_type": "code",
      "source": [
        "y"
      ],
      "metadata": {
        "id": "hoF3S9m2PUkW"
      },
      "execution_count": null,
      "outputs": []
    },
    {
      "cell_type": "code",
      "source": [
        "y/=6"
      ],
      "metadata": {
        "id": "ylm8f3CvPVjW"
      },
      "execution_count": null,
      "outputs": []
    },
    {
      "cell_type": "code",
      "source": [
        "y"
      ],
      "metadata": {
        "id": "4a_1-5YYPgr3"
      },
      "execution_count": null,
      "outputs": []
    },
    {
      "cell_type": "code",
      "source": [
        "p=56"
      ],
      "metadata": {
        "id": "uRtS3P0QPr1j"
      },
      "execution_count": null,
      "outputs": []
    },
    {
      "cell_type": "code",
      "source": [
        "p=p%8"
      ],
      "metadata": {
        "id": "6GDDErTvPhke"
      },
      "execution_count": null,
      "outputs": []
    },
    {
      "cell_type": "code",
      "source": [
        "p"
      ],
      "metadata": {
        "id": "-x9ZSOmiPz2v"
      },
      "execution_count": null,
      "outputs": []
    },
    {
      "cell_type": "code",
      "source": [
        "p%=8 # are same p=p%8"
      ],
      "metadata": {
        "id": "ZYVSwf8pP1iQ"
      },
      "execution_count": null,
      "outputs": []
    },
    {
      "cell_type": "code",
      "source": [
        "x=4 #0101\n",
        "#3 is binary value 0011\n",
        "\n",
        "#0   1   0   1\n",
        "#0   0   1   1\n",
        "#0   0    0    1             =       1*2^0+0*2^1+0*2^2+0*2^3=1"
      ],
      "metadata": {
        "id": "Sybl187_P7KO"
      },
      "execution_count": null,
      "outputs": []
    },
    {
      "cell_type": "code",
      "source": [
        "#4------>0100\n",
        "#2------>0010\n",
        "\n",
        "#0   1   0   0 -------->4\n",
        "#0   0   1   0 -------->2\n",
        "\n",
        "#0   0   0   0--------> decimal value of 0000 is 0\n"
      ],
      "metadata": {
        "id": "8ZkQZuHeSH8z"
      },
      "execution_count": null,
      "outputs": []
    },
    {
      "cell_type": "code",
      "source": [
        "x&=2 # x=x&3"
      ],
      "metadata": {
        "id": "aIKaAimnP72v"
      },
      "execution_count": null,
      "outputs": []
    },
    {
      "cell_type": "code",
      "source": [
        "x"
      ],
      "metadata": {
        "id": "JQT5AXcXRBT-"
      },
      "execution_count": null,
      "outputs": []
    },
    {
      "cell_type": "code",
      "source": [
        "x=6#110"
      ],
      "metadata": {
        "id": "vO2iLVZVRCMs"
      },
      "execution_count": null,
      "outputs": []
    },
    {
      "cell_type": "code",
      "source": [
        "x&=4#100"
      ],
      "metadata": {
        "id": "5io_SYfrT2NC"
      },
      "execution_count": null,
      "outputs": []
    },
    {
      "cell_type": "code",
      "source": [
        "x #0100"
      ],
      "metadata": {
        "id": "KL60dOAjUFgc"
      },
      "execution_count": null,
      "outputs": []
    },
    {
      "cell_type": "code",
      "source": [
        "y=6 #110"
      ],
      "metadata": {
        "id": "s4_eGVmSUGgQ"
      },
      "execution_count": null,
      "outputs": []
    },
    {
      "cell_type": "code",
      "source": [
        "y|=4 #100"
      ],
      "metadata": {
        "id": "1Yr6WuOgUUUo"
      },
      "execution_count": null,
      "outputs": []
    },
    {
      "cell_type": "code",
      "source": [
        "y"
      ],
      "metadata": {
        "id": "5KZMANPDU7KE"
      },
      "execution_count": null,
      "outputs": []
    },
    {
      "cell_type": "code",
      "source": [
        "y"
      ],
      "metadata": {
        "id": "d3mv9MiLU78V"
      },
      "execution_count": null,
      "outputs": []
    },
    {
      "cell_type": "code",
      "source": [
        "format(8,'b')"
      ],
      "metadata": {
        "id": "nTgNjWR4VoqX"
      },
      "execution_count": null,
      "outputs": []
    },
    {
      "cell_type": "code",
      "source": [
        "format(4,'b')"
      ],
      "metadata": {
        "id": "6QTU-idqVsDb"
      },
      "execution_count": null,
      "outputs": []
    },
    {
      "cell_type": "code",
      "source": [
        "1100\n",
        "1010\n",
        "0110"
      ],
      "metadata": {
        "id": "3p8bsWlbV4lY"
      },
      "execution_count": null,
      "outputs": []
    },
    {
      "cell_type": "code",
      "source": [
        "l=5 #101\n",
        "c=4 #100\n"
      ],
      "metadata": {
        "id": "emAhPiE2X9jm"
      },
      "execution_count": null,
      "outputs": []
    },
    {
      "cell_type": "code",
      "source": [
        "l^c #001"
      ],
      "metadata": {
        "id": "EmqcO3xyYB-Y"
      },
      "execution_count": null,
      "outputs": []
    },
    {
      "cell_type": "code",
      "source": [
        "format(l^c,'b')"
      ],
      "metadata": {
        "id": "ZcRPDmqJYNEp"
      },
      "execution_count": null,
      "outputs": []
    },
    {
      "cell_type": "code",
      "source": [
        "l^=c# l^c"
      ],
      "metadata": {
        "id": "KeAeHtBEYQ7M"
      },
      "execution_count": null,
      "outputs": []
    },
    {
      "cell_type": "code",
      "source": [
        "l"
      ],
      "metadata": {
        "id": "TJk-wa_yYbuU"
      },
      "execution_count": null,
      "outputs": []
    },
    {
      "cell_type": "code",
      "source": [
        "a=6#110\n",
        "b=2#010"
      ],
      "metadata": {
        "id": "VmzPEoZhYchn"
      },
      "execution_count": null,
      "outputs": []
    },
    {
      "cell_type": "code",
      "source": [
        "a>>2#110>>2\n",
        "#101"
      ],
      "metadata": {
        "id": "vocD41wjYqoH"
      },
      "execution_count": null,
      "outputs": []
    },
    {
      "cell_type": "code",
      "source": [
        "110----->011\n",
        "100----->001"
      ],
      "metadata": {
        "id": "Zz1pSPYPZjgs"
      },
      "execution_count": null,
      "outputs": []
    },
    {
      "cell_type": "code",
      "source": [
        "a"
      ],
      "metadata": {
        "id": "53X8lplhY1Uy"
      },
      "execution_count": null,
      "outputs": []
    },
    {
      "cell_type": "code",
      "source": [
        "b"
      ],
      "metadata": {
        "id": "aTW1ZBXdY2mp"
      },
      "execution_count": null,
      "outputs": []
    },
    {
      "cell_type": "code",
      "source": [
        "#bitwise operators"
      ],
      "metadata": {
        "id": "zVFRZ8anY3gb"
      },
      "execution_count": null,
      "outputs": []
    },
    {
      "cell_type": "code",
      "source": [
        "x=9"
      ],
      "metadata": {
        "id": "vitpgdArk8xG"
      },
      "execution_count": null,
      "outputs": []
    },
    {
      "cell_type": "code",
      "source": [
        "~x #this is same as -x-1"
      ],
      "metadata": {
        "id": "xEXh9hsTk-ko"
      },
      "execution_count": null,
      "outputs": []
    },
    {
      "cell_type": "code",
      "source": [
        "-x-1"
      ],
      "metadata": {
        "id": "bu7tSokqphLo"
      },
      "execution_count": null,
      "outputs": []
    },
    {
      "cell_type": "code",
      "source": [
        "a=20 #10100\n"
      ],
      "metadata": {
        "id": "89ExgM2Gk_0z"
      },
      "execution_count": null,
      "outputs": []
    },
    {
      "cell_type": "code",
      "source": [
        "a>>3"
      ],
      "metadata": {
        "id": "5TN1SbwalpHU"
      },
      "execution_count": null,
      "outputs": []
    },
    {
      "cell_type": "code",
      "source": [
        "a"
      ],
      "metadata": {
        "id": "wTI3qF0el8eG"
      },
      "execution_count": null,
      "outputs": []
    },
    {
      "cell_type": "code",
      "source": [
        "a<<2"
      ],
      "metadata": {
        "id": "lscUEXXJoR6a"
      },
      "execution_count": null,
      "outputs": []
    },
    {
      "cell_type": "code",
      "source": [
        "#logical operator (and, or, not)"
      ],
      "metadata": {
        "id": "hpj-qe8RoVI_"
      },
      "execution_count": null,
      "outputs": []
    },
    {
      "cell_type": "code",
      "source": [
        "a=10"
      ],
      "metadata": {
        "id": "xOT2pIiap4zT"
      },
      "execution_count": null,
      "outputs": []
    },
    {
      "cell_type": "code",
      "source": [
        "b=20"
      ],
      "metadata": {
        "id": "pyKZ_KMKqTRQ"
      },
      "execution_count": null,
      "outputs": []
    },
    {
      "cell_type": "code",
      "source": [
        "#&, and"
      ],
      "metadata": {
        "id": "oo3eZi2SqVPH"
      },
      "execution_count": null,
      "outputs": []
    },
    {
      "cell_type": "code",
      "source": [
        "if 20>0 and 30>40:\n",
        "    print(\"both the conditions true \")\n",
        "else:\n",
        "    print(\"else part will because one condition not true\")"
      ],
      "metadata": {
        "id": "TQD0U7QWqvBg"
      },
      "execution_count": null,
      "outputs": []
    },
    {
      "cell_type": "code",
      "source": [
        "if 20>30 or 30>40:\n",
        "    print(\"one of the condition is true \")\n",
        "else:\n",
        "    print(\"else part will because both the condition false\")"
      ],
      "metadata": {
        "id": "bw0fRIcQrJPw"
      },
      "execution_count": null,
      "outputs": []
    },
    {
      "cell_type": "code",
      "source": [
        "n%4"
      ],
      "metadata": {
        "id": "Ck83--QHtl1I"
      },
      "execution_count": null,
      "outputs": []
    },
    {
      "cell_type": "code",
      "source": [
        "n=20\n",
        "if (n%4==0 or n%6==0):\n",
        "    print(\"n is not divisible by 3 and 6\")\n",
        "else:\n",
        "    print(\"n is divisible by 4 and not divisible with 6\")\n",
        "\n",
        "\n"
      ],
      "metadata": {
        "id": "yPI5N0jBs6Cb"
      },
      "execution_count": null,
      "outputs": []
    },
    {
      "cell_type": "code",
      "source": [
        "#relational operator  or comparison (==, !=, >,<,<=,>=)"
      ],
      "metadata": {
        "id": "Rrt5xsYKtv6w"
      },
      "execution_count": null,
      "outputs": []
    },
    {
      "cell_type": "code",
      "source": [
        "a=20\n"
      ],
      "metadata": {
        "id": "kas93l7uum6T"
      },
      "execution_count": null,
      "outputs": []
    },
    {
      "cell_type": "code",
      "source": [
        "a==20"
      ],
      "metadata": {
        "id": "TCtzVwF9vBCI"
      },
      "execution_count": null,
      "outputs": []
    },
    {
      "cell_type": "code",
      "source": [
        "a==30"
      ],
      "metadata": {
        "id": "Pb_Q4NHjvE3E"
      },
      "execution_count": null,
      "outputs": []
    },
    {
      "cell_type": "code",
      "source": [
        "if a==30:\n",
        "    print(True)\n",
        "else:\n",
        "    print(False)"
      ],
      "metadata": {
        "id": "2axojcg_urN5"
      },
      "execution_count": null,
      "outputs": []
    },
    {
      "cell_type": "code",
      "source": [
        "a!=20"
      ],
      "metadata": {
        "id": "NfwwJ_z_vL65"
      },
      "execution_count": null,
      "outputs": []
    },
    {
      "cell_type": "code",
      "source": [
        "a!=30"
      ],
      "metadata": {
        "id": "6E-hLxnTvTe4"
      },
      "execution_count": null,
      "outputs": []
    },
    {
      "cell_type": "code",
      "source": [
        "a>20"
      ],
      "metadata": {
        "id": "05_dKE-rvj3D"
      },
      "execution_count": null,
      "outputs": []
    },
    {
      "cell_type": "code",
      "source": [
        "a>10"
      ],
      "metadata": {
        "id": "oDMdDM2wvnax"
      },
      "execution_count": null,
      "outputs": []
    },
    {
      "cell_type": "code",
      "source": [
        "a<20"
      ],
      "metadata": {
        "id": "opQ9zJzvvqLg"
      },
      "execution_count": null,
      "outputs": []
    },
    {
      "cell_type": "code",
      "source": [
        "a<30"
      ],
      "metadata": {
        "id": "aoOkakHGvttv"
      },
      "execution_count": null,
      "outputs": []
    },
    {
      "cell_type": "code",
      "source": [
        "a>=20"
      ],
      "metadata": {
        "id": "at1a6UdrvvIO"
      },
      "execution_count": null,
      "outputs": []
    },
    {
      "cell_type": "code",
      "source": [
        "a>=30"
      ],
      "metadata": {
        "id": "WYAQjlltv0GL"
      },
      "execution_count": null,
      "outputs": []
    },
    {
      "cell_type": "code",
      "source": [
        "a>=10"
      ],
      "metadata": {
        "id": "-bJKUzy6v5ck"
      },
      "execution_count": null,
      "outputs": []
    },
    {
      "cell_type": "code",
      "source": [
        "a<=20"
      ],
      "metadata": {
        "id": "ztSsXqeKv6_e"
      },
      "execution_count": null,
      "outputs": []
    },
    {
      "cell_type": "code",
      "source": [
        "#identity operator (is, is not)"
      ],
      "metadata": {
        "id": "FzdobON7v-9e"
      },
      "execution_count": null,
      "outputs": []
    },
    {
      "cell_type": "code",
      "source": [
        "x=40\n",
        "y=20"
      ],
      "metadata": {
        "id": "jIibYIoHwMhM"
      },
      "execution_count": null,
      "outputs": []
    },
    {
      "cell_type": "code",
      "source": [
        "id(x)"
      ],
      "metadata": {
        "id": "nmX_jPfDw1i-"
      },
      "execution_count": null,
      "outputs": []
    },
    {
      "cell_type": "code",
      "source": [
        "id(y)"
      ],
      "metadata": {
        "id": "8TTW4dnrw5-p"
      },
      "execution_count": null,
      "outputs": []
    },
    {
      "cell_type": "code",
      "source": [
        "print(x is y) # \"is\" is checking the address of value"
      ],
      "metadata": {
        "id": "HZUEYiyIwqGi"
      },
      "execution_count": null,
      "outputs": []
    },
    {
      "cell_type": "code",
      "source": [
        "print(x==y) #checking values"
      ],
      "metadata": {
        "id": "2W11bTH1ws59"
      },
      "execution_count": null,
      "outputs": []
    },
    {
      "cell_type": "code",
      "source": [
        "s=2\n",
        "t=2"
      ],
      "metadata": {
        "id": "Xo4xJjBBwxfM"
      },
      "execution_count": null,
      "outputs": []
    },
    {
      "cell_type": "code",
      "source": [
        "print(s is t)"
      ],
      "metadata": {
        "id": "tlDa0fmUxNr-"
      },
      "execution_count": null,
      "outputs": []
    },
    {
      "cell_type": "code",
      "source": [
        "print(s==t)"
      ],
      "metadata": {
        "id": "MitDRm0lxTgw"
      },
      "execution_count": null,
      "outputs": []
    },
    {
      "cell_type": "code",
      "source": [
        "print(x is not y)"
      ],
      "metadata": {
        "id": "SD3Z5ZMDxoWP"
      },
      "execution_count": null,
      "outputs": []
    },
    {
      "cell_type": "code",
      "source": [
        "x=[1,2,3]\n",
        "y=[2,1,3]"
      ],
      "metadata": {
        "id": "hjGvgGEwxqlP"
      },
      "execution_count": null,
      "outputs": []
    },
    {
      "cell_type": "code",
      "source": [
        "print(x is y)"
      ],
      "metadata": {
        "id": "7w3XAzO4xxjt"
      },
      "execution_count": null,
      "outputs": []
    },
    {
      "cell_type": "code",
      "source": [
        "x={1,2,3}\n",
        "y={2,1,3}"
      ],
      "metadata": {
        "id": "PTPcLIIQx7Vw"
      },
      "execution_count": null,
      "outputs": []
    },
    {
      "cell_type": "code",
      "source": [
        "x"
      ],
      "metadata": {
        "id": "voJTmc65yEx2"
      },
      "execution_count": null,
      "outputs": []
    },
    {
      "cell_type": "code",
      "source": [
        "y"
      ],
      "metadata": {
        "id": "4EDfOgFKyGRw"
      },
      "execution_count": null,
      "outputs": []
    },
    {
      "cell_type": "code",
      "source": [
        "print(x is y)"
      ],
      "metadata": {
        "id": "VGxyFXkMx_AR"
      },
      "execution_count": null,
      "outputs": []
    },
    {
      "cell_type": "code",
      "source": [
        "id(x)"
      ],
      "metadata": {
        "id": "hoVW4AfFyJCD"
      },
      "execution_count": null,
      "outputs": []
    },
    {
      "cell_type": "code",
      "source": [
        "id(y)"
      ],
      "metadata": {
        "id": "64oqHpaoyKFX"
      },
      "execution_count": null,
      "outputs": []
    },
    {
      "cell_type": "code",
      "source": [
        "y.sort()"
      ],
      "metadata": {
        "id": "L5t9SUAsyLV_"
      },
      "execution_count": null,
      "outputs": []
    },
    {
      "cell_type": "code",
      "source": [
        "#membership function (in , not in)\n"
      ],
      "metadata": {
        "id": "vA7cIqGyyVm9"
      },
      "execution_count": null,
      "outputs": []
    },
    {
      "cell_type": "code",
      "source": [
        "a=(1,2,3,4,5)\n",
        "if (2 not in a):\n",
        "    print(\"2 is inside\")\n",
        "else:\n",
        "    print(\"2 is not in\")\n"
      ],
      "metadata": {
        "id": "Ndb6OWapzQJ5"
      },
      "execution_count": null,
      "outputs": []
    },
    {
      "cell_type": "code",
      "source": [
        "a=[1,2,3,4,5]\n",
        "print(2 not in a)"
      ],
      "metadata": {
        "id": "PnmkTIhCzdwB"
      },
      "execution_count": null,
      "outputs": []
    },
    {
      "cell_type": "code",
      "source": [
        "#unary operator\n",
        "-1\n",
        "+2\n",
        "+6\n",
        "+9"
      ],
      "metadata": {
        "id": "scBeoUSYzmyL"
      },
      "execution_count": null,
      "outputs": []
    },
    {
      "cell_type": "code",
      "source": [
        "#opeartor precedence and associativity\n",
        "#bodmas\n"
      ],
      "metadata": {
        "id": "2yeKv7e80573"
      },
      "execution_count": null,
      "outputs": []
    },
    {
      "cell_type": "code",
      "source": [
        "2+3-2"
      ],
      "metadata": {
        "id": "HZXEKgsj1cCX"
      },
      "execution_count": null,
      "outputs": []
    },
    {
      "cell_type": "code",
      "source": [
        "2*2+3"
      ],
      "metadata": {
        "id": "n3PR49801kzA"
      },
      "execution_count": null,
      "outputs": []
    },
    {
      "cell_type": "code",
      "source": [
        "(2+2)*2+3 #BODMAS\n",
        "B--->Bracket---->()or {} highest priority\n",
        "O--->Ordered 2**3\n",
        "D--->Division(/)\n",
        "M--->Multiplication(*)\n",
        "A--->Addition(+)\n",
        "S--->Subtraction(-) least priority"
      ],
      "metadata": {
        "id": "lInl-gc81vB6"
      },
      "execution_count": null,
      "outputs": []
    },
    {
      "cell_type": "code",
      "source": [
        "(2+3)**3-2*2/4+4 #125-2*2/4+4=125-1+4=128"
      ],
      "metadata": {
        "id": "dPGQShWP2jX-"
      },
      "execution_count": null,
      "outputs": []
    },
    {
      "cell_type": "code",
      "source": [
        "(3**3)//2/4%4+4+3-6*4 #-13"
      ],
      "metadata": {
        "id": "QwjQhB8T4pPF"
      },
      "execution_count": null,
      "outputs": []
    },
    {
      "cell_type": "code",
      "source": [
        "13//0.5"
      ],
      "metadata": {
        "id": "sd8wg4rU6zdR"
      },
      "execution_count": null,
      "outputs": []
    },
    {
      "cell_type": "code",
      "source": [
        "26.0%4"
      ],
      "metadata": {
        "id": "SR7vOpI260Cb"
      },
      "execution_count": null,
      "outputs": []
    },
    {
      "cell_type": "markdown",
      "source": [
        "#debugging of precedence and associativity"
      ],
      "metadata": {
        "id": "x1Ww0qqJ_MhR"
      }
    },
    {
      "cell_type": "code",
      "source": [
        "#step 0:\n",
        "(3**3)"
      ],
      "metadata": {
        "id": "pnF2DyVg_ZpD"
      },
      "execution_count": null,
      "outputs": []
    },
    {
      "cell_type": "code",
      "source": [
        "#step1:\n",
        "(27)"
      ],
      "metadata": {
        "id": "pXL348Ci7_lD"
      },
      "execution_count": null,
      "outputs": []
    },
    {
      "cell_type": "code",
      "source": [
        "#step 2:\n",
        "(27)//2 #=13.0"
      ],
      "metadata": {
        "id": "M3ZdySTg-uYq"
      },
      "execution_count": null,
      "outputs": []
    },
    {
      "cell_type": "code",
      "source": [
        "#step 3:\n",
        "(27)//2 #=13.0/4= 3.25"
      ],
      "metadata": {
        "id": "ufNqPxno-w3Y"
      },
      "execution_count": null,
      "outputs": []
    },
    {
      "cell_type": "code",
      "source": [
        "#step4:\n",
        "3.25%4 #=3.25"
      ],
      "metadata": {
        "id": "gdpRoQdb-3S1"
      },
      "execution_count": null,
      "outputs": []
    },
    {
      "cell_type": "code",
      "source": [
        "#step5:\n",
        "3.25+7"
      ],
      "metadata": {
        "id": "LShTsw3p-_m7"
      },
      "execution_count": null,
      "outputs": []
    },
    {
      "cell_type": "code",
      "source": [
        "#step6\n",
        "10.25-24"
      ],
      "metadata": {
        "id": "SjLwSWVp_GL3"
      },
      "execution_count": null,
      "outputs": []
    },
    {
      "cell_type": "code",
      "source": [
        "#built in function"
      ],
      "metadata": {
        "id": "n1ay_tnb_KE1"
      },
      "execution_count": null,
      "outputs": []
    },
    {
      "cell_type": "code",
      "source": [
        "import builtins"
      ],
      "metadata": {
        "id": "FdaFlBLY_stV"
      },
      "execution_count": null,
      "outputs": []
    },
    {
      "cell_type": "code",
      "source": [
        "print(__builtins__)"
      ],
      "metadata": {
        "id": "tt71fGQ2_umI"
      },
      "execution_count": null,
      "outputs": []
    },
    {
      "cell_type": "code",
      "source": [
        "dir(builtins)"
      ],
      "metadata": {
        "id": "FwrvTCy2AdBP"
      },
      "execution_count": null,
      "outputs": []
    },
    {
      "cell_type": "code",
      "source": [
        "#1. function abs()\n",
        "a=-1"
      ],
      "metadata": {
        "id": "nmwMEamDAuWM"
      },
      "execution_count": null,
      "outputs": []
    },
    {
      "cell_type": "code",
      "source": [
        "abs(-1)"
      ],
      "metadata": {
        "id": "AUSZpJ95CBfe"
      },
      "execution_count": null,
      "outputs": []
    },
    {
      "cell_type": "code",
      "source": [
        "abs(1+2j)"
      ],
      "metadata": {
        "id": "u_flESVLCD8H"
      },
      "execution_count": null,
      "outputs": []
    },
    {
      "cell_type": "code",
      "source": [
        "myls=[1,2,3,-1,-2]"
      ],
      "metadata": {
        "id": "LyBV6BJ0Cc-B"
      },
      "execution_count": null,
      "outputs": []
    },
    {
      "cell_type": "code",
      "source": [
        "for i in (myls):\n",
        "    print((abs(i)), end=\" \")"
      ],
      "metadata": {
        "id": "bHv0vg2jCgQh"
      },
      "execution_count": null,
      "outputs": []
    },
    {
      "cell_type": "code",
      "source": [
        "mylis=[abs(i) for i in myls] #list comprehension syntax: [expression for loop condition]\n",
        "mylis"
      ],
      "metadata": {
        "id": "5gtXZVozCl_q"
      },
      "execution_count": null,
      "outputs": []
    },
    {
      "cell_type": "code",
      "source": [
        "#2. all:"
      ],
      "metadata": {
        "id": "zzPq1LZ_DG2F"
      },
      "execution_count": null,
      "outputs": []
    },
    {
      "cell_type": "code",
      "source": [
        "?all"
      ],
      "metadata": {
        "id": "i5B64e4LDnnc"
      },
      "execution_count": null,
      "outputs": []
    },
    {
      "cell_type": "code",
      "source": [
        "all([1,2,3])"
      ],
      "metadata": {
        "id": "pcWqu0ODDoqM"
      },
      "execution_count": null,
      "outputs": []
    },
    {
      "cell_type": "code",
      "source": [
        "all(\"hi\")"
      ],
      "metadata": {
        "id": "fMM4mecGEFhm"
      },
      "execution_count": null,
      "outputs": []
    },
    {
      "cell_type": "code",
      "source": [
        "all(\" \")"
      ],
      "metadata": {
        "id": "xMQPsxNVEJuI"
      },
      "execution_count": null,
      "outputs": []
    },
    {
      "cell_type": "code",
      "source": [
        "all((1,))"
      ],
      "metadata": {
        "id": "zMDWb5ShEqVY"
      },
      "execution_count": null,
      "outputs": []
    },
    {
      "cell_type": "code",
      "source": [
        "all([False,0])"
      ],
      "metadata": {
        "id": "sFkVbmAPErv5"
      },
      "execution_count": null,
      "outputs": []
    },
    {
      "cell_type": "code",
      "source": [
        "all([False,1])"
      ],
      "metadata": {
        "id": "C6Va8G1ME6mC"
      },
      "execution_count": null,
      "outputs": []
    },
    {
      "cell_type": "code",
      "source": [
        "list1=[1,1,1]\n"
      ],
      "metadata": {
        "id": "RKFHQNZRFLQ5"
      },
      "execution_count": null,
      "outputs": []
    },
    {
      "cell_type": "code",
      "source": [
        "all([x==1 for x in list1])"
      ],
      "metadata": {
        "id": "VN1zJCl0FNqQ"
      },
      "execution_count": null,
      "outputs": []
    },
    {
      "cell_type": "code",
      "source": [
        "l1=[1,2,3]"
      ],
      "metadata": {
        "id": "CiTZtUCsFZ7c"
      },
      "execution_count": null,
      "outputs": []
    },
    {
      "cell_type": "code",
      "source": [
        "all([x for x in l1])"
      ],
      "metadata": {
        "id": "WEJcbejxFrdE"
      },
      "execution_count": null,
      "outputs": []
    },
    {
      "cell_type": "code",
      "source": [
        "all([x==10 for x in l1])"
      ],
      "metadata": {
        "id": "V6x1yq0RFzUL"
      },
      "execution_count": null,
      "outputs": []
    },
    {
      "cell_type": "code",
      "source": [
        "#3. bin()"
      ],
      "metadata": {
        "id": "0TKi8ZAHGCHK"
      },
      "execution_count": null,
      "outputs": []
    },
    {
      "cell_type": "code",
      "source": [
        "bin(10)"
      ],
      "metadata": {
        "id": "DgsW9yjBGKpS"
      },
      "execution_count": null,
      "outputs": []
    },
    {
      "cell_type": "code",
      "source": [
        "bin(20)"
      ],
      "metadata": {
        "id": "ZJWfRIZnGL9e"
      },
      "execution_count": null,
      "outputs": []
    },
    {
      "cell_type": "code",
      "source": [
        "bin(-4)"
      ],
      "metadata": {
        "id": "5Iui2z8CGqzZ"
      },
      "execution_count": null,
      "outputs": []
    },
    {
      "cell_type": "code",
      "source": [
        "bin(\"4\")"
      ],
      "metadata": {
        "id": "F1K6suARG8s7"
      },
      "execution_count": null,
      "outputs": []
    },
    {
      "cell_type": "code",
      "source": [
        "bin([3])"
      ],
      "metadata": {
        "id": "2Y7nJq2bHG4D"
      },
      "execution_count": null,
      "outputs": []
    },
    {
      "cell_type": "code",
      "source": [
        "?ascii"
      ],
      "metadata": {
        "id": "stcsWXvbHKGc"
      },
      "execution_count": null,
      "outputs": []
    },
    {
      "cell_type": "code",
      "source": [
        "ascii(1)"
      ],
      "metadata": {
        "id": "0JAiwWxDHThG"
      },
      "execution_count": null,
      "outputs": []
    },
    {
      "cell_type": "code",
      "source": [
        "ascii('hi')"
      ],
      "metadata": {
        "id": "9B1fVK7WHZBZ"
      },
      "execution_count": null,
      "outputs": []
    },
    {
      "cell_type": "code",
      "source": [
        "#any"
      ],
      "metadata": {
        "id": "z17kUWeAHh27"
      },
      "execution_count": null,
      "outputs": []
    },
    {
      "cell_type": "code",
      "source": [
        "?any"
      ],
      "metadata": {
        "id": "c57pL0ZhHo0a"
      },
      "execution_count": null,
      "outputs": []
    },
    {
      "cell_type": "code",
      "source": [
        "any(\"\")"
      ],
      "metadata": {
        "id": "EPehNfDtHq0_"
      },
      "execution_count": null,
      "outputs": []
    },
    {
      "cell_type": "code",
      "source": [
        "any([\" \",False,0])"
      ],
      "metadata": {
        "id": "R1vrIoRWH1rk"
      },
      "execution_count": null,
      "outputs": []
    },
    {
      "cell_type": "code",
      "source": [
        "any([\"\",False,0,1])"
      ],
      "metadata": {
        "id": "YgXnKqW0IIw8"
      },
      "execution_count": null,
      "outputs": []
    },
    {
      "cell_type": "code",
      "source": [
        "#bool"
      ],
      "metadata": {
        "id": "f7ycndV1Iaiu"
      },
      "execution_count": null,
      "outputs": []
    },
    {
      "cell_type": "code",
      "source": [
        "?bool"
      ],
      "metadata": {
        "id": "vZzRIjGmIcLV"
      },
      "execution_count": null,
      "outputs": []
    },
    {
      "cell_type": "code",
      "source": [
        "bool(1)"
      ],
      "metadata": {
        "id": "80UPEH4-ISU3"
      },
      "execution_count": null,
      "outputs": []
    },
    {
      "cell_type": "code",
      "source": [
        "bool(0)"
      ],
      "metadata": {
        "id": "PmdlUcfvImuJ"
      },
      "execution_count": null,
      "outputs": []
    },
    {
      "cell_type": "code",
      "source": [
        "bool(\"hi\")"
      ],
      "metadata": {
        "id": "h5z3GuMFIooQ"
      },
      "execution_count": null,
      "outputs": []
    },
    {
      "cell_type": "code",
      "source": [
        "bool()"
      ],
      "metadata": {
        "id": "uXpqXfjzIryo"
      },
      "execution_count": null,
      "outputs": []
    },
    {
      "cell_type": "code",
      "source": [
        "bool([1,2,3])"
      ],
      "metadata": {
        "id": "wOMqxXOdIusC"
      },
      "execution_count": null,
      "outputs": []
    },
    {
      "cell_type": "code",
      "source": [
        "#?chr it will dispaly ascii charcter of value"
      ],
      "metadata": {
        "id": "3D0F3ymxI2Z2"
      },
      "execution_count": null,
      "outputs": []
    },
    {
      "cell_type": "code",
      "source": [
        "chr(0)"
      ],
      "metadata": {
        "id": "_l8Sr-5LJB4S"
      },
      "execution_count": null,
      "outputs": []
    },
    {
      "cell_type": "code",
      "source": [
        "chr(121)"
      ],
      "metadata": {
        "id": "KVHYld1cJJuR"
      },
      "execution_count": null,
      "outputs": []
    },
    {
      "cell_type": "code",
      "source": [
        "chr(234)"
      ],
      "metadata": {
        "id": "qGXWRvNuJMEE"
      },
      "execution_count": null,
      "outputs": []
    },
    {
      "cell_type": "code",
      "source": [
        "?enumerate"
      ],
      "metadata": {
        "id": "47KhdIbBJeoj"
      },
      "execution_count": null,
      "outputs": []
    },
    {
      "cell_type": "code",
      "source": [
        "li1=[1,2,3,3,4]"
      ],
      "metadata": {
        "id": "d4ipp8sGJ7aO"
      },
      "execution_count": null,
      "outputs": []
    },
    {
      "cell_type": "code",
      "source": [
        "for i in enumerate(li1):\n",
        "    print(i, end=\", \")"
      ],
      "metadata": {
        "id": "d9F3mik2KOVg"
      },
      "execution_count": null,
      "outputs": []
    },
    {
      "cell_type": "code",
      "source": [
        "#eval function \" \""
      ],
      "metadata": {
        "id": "nxsh11YiKTVL"
      },
      "execution_count": null,
      "outputs": []
    },
    {
      "cell_type": "code",
      "source": [
        "a=input(\"eneter the value: \")"
      ],
      "metadata": {
        "id": "_zZw9Kz8Ky7a"
      },
      "execution_count": null,
      "outputs": []
    },
    {
      "cell_type": "code",
      "source": [
        "a"
      ],
      "metadata": {
        "id": "eRH9rH_bK4Mn"
      },
      "execution_count": null,
      "outputs": []
    },
    {
      "cell_type": "code",
      "source": [
        "eval(a)"
      ],
      "metadata": {
        "id": "klaTxB9nK6VM"
      },
      "execution_count": null,
      "outputs": []
    },
    {
      "cell_type": "code",
      "source": [
        "int(a)"
      ],
      "metadata": {
        "id": "skTk0n6UK-Ou"
      },
      "execution_count": null,
      "outputs": []
    },
    {
      "cell_type": "code",
      "source": [
        "?divmod"
      ],
      "metadata": {
        "id": "4TUIg5TpLA_h"
      },
      "execution_count": null,
      "outputs": []
    },
    {
      "cell_type": "code",
      "source": [
        "help(divmod)"
      ],
      "metadata": {
        "id": "LwpcE3jTLZA1"
      },
      "execution_count": null,
      "outputs": []
    },
    {
      "cell_type": "code",
      "source": [
        "divmod(10,6)"
      ],
      "metadata": {
        "id": "VdIy_hY2LcCF"
      },
      "execution_count": null,
      "outputs": []
    },
    {
      "cell_type": "code",
      "source": [
        "10//6"
      ],
      "metadata": {
        "id": "x58rNTkSLmjT"
      },
      "execution_count": null,
      "outputs": []
    },
    {
      "cell_type": "code",
      "source": [
        "10%6"
      ],
      "metadata": {
        "id": "Qzh22KEcLxRE"
      },
      "execution_count": null,
      "outputs": []
    },
    {
      "cell_type": "code",
      "source": [
        "#frozenset immutable datatype"
      ],
      "metadata": {
        "id": "CASODP55L53T"
      },
      "execution_count": null,
      "outputs": []
    },
    {
      "cell_type": "code",
      "source": [
        "t=(1,2,3,4)"
      ],
      "metadata": {
        "id": "z1v1c1P7MPQr"
      },
      "execution_count": null,
      "outputs": []
    },
    {
      "cell_type": "code",
      "source": [
        "fset=frozenset(t)"
      ],
      "metadata": {
        "id": "X1HZmpVyMT2R"
      },
      "execution_count": null,
      "outputs": []
    },
    {
      "cell_type": "code",
      "source": [
        "fset"
      ],
      "metadata": {
        "id": "cjpXDg7TMX8S"
      },
      "execution_count": null,
      "outputs": []
    },
    {
      "cell_type": "code",
      "source": [
        "type(fset)"
      ],
      "metadata": {
        "id": "evDleKwwMZXZ"
      },
      "execution_count": null,
      "outputs": []
    },
    {
      "cell_type": "code",
      "source": [
        "dir(fset)"
      ],
      "metadata": {
        "id": "hKltwJgmMb_x"
      },
      "execution_count": null,
      "outputs": []
    },
    {
      "cell_type": "code",
      "source": [
        "fset.add(2)"
      ],
      "metadata": {
        "id": "tyKBGlnjMgU4"
      },
      "execution_count": null,
      "outputs": []
    },
    {
      "cell_type": "code",
      "source": [
        "f={1,2,3}"
      ],
      "metadata": {
        "id": "aEHEDthdMnuz"
      },
      "execution_count": null,
      "outputs": []
    },
    {
      "cell_type": "code",
      "source": [
        "f"
      ],
      "metadata": {
        "id": "wc9jI4mqMtSr"
      },
      "execution_count": null,
      "outputs": []
    },
    {
      "cell_type": "code",
      "source": [
        "dir(f)"
      ],
      "metadata": {
        "id": "mSypU3jBMt72"
      },
      "execution_count": null,
      "outputs": []
    },
    {
      "cell_type": "code",
      "source": [
        "f.add(6)"
      ],
      "metadata": {
        "id": "Ya80Y3unMwag"
      },
      "execution_count": null,
      "outputs": []
    },
    {
      "cell_type": "code",
      "source": [
        "f"
      ],
      "metadata": {
        "id": "6vn69_K4M3-m"
      },
      "execution_count": null,
      "outputs": []
    },
    {
      "cell_type": "code",
      "source": [
        "from functools import reduce"
      ],
      "metadata": {
        "id": "yWRxCkN1M45B"
      },
      "execution_count": null,
      "outputs": []
    },
    {
      "cell_type": "code",
      "source": [],
      "metadata": {
        "id": "yOGwsarCNrll"
      },
      "execution_count": null,
      "outputs": []
    },
    {
      "cell_type": "code",
      "source": [
        "?filter"
      ],
      "metadata": {
        "id": "EONiSKQMNvMC"
      },
      "execution_count": null,
      "outputs": []
    },
    {
      "cell_type": "code",
      "source": [
        "def add(x,y):\n",
        "    return x+y\n",
        "add(2,3)"
      ],
      "metadata": {
        "id": "XIuD2kDsPMQl"
      },
      "execution_count": null,
      "outputs": []
    },
    {
      "cell_type": "code",
      "source": [
        "sum([2,3])"
      ],
      "metadata": {
        "id": "X5-SZCGxPaE3"
      },
      "execution_count": null,
      "outputs": []
    },
    {
      "cell_type": "code",
      "source": [
        "?filter"
      ],
      "metadata": {
        "id": "6jqQnZ8SPe-3"
      },
      "execution_count": null,
      "outputs": []
    },
    {
      "cell_type": "code",
      "source": [
        "filter(add)"
      ],
      "metadata": {
        "id": "ERoyPQmSPtD7"
      },
      "execution_count": null,
      "outputs": []
    },
    {
      "cell_type": "code",
      "source": [
        "help(reduce)"
      ],
      "metadata": {
        "id": "fujTK-HxQDHy"
      },
      "execution_count": null,
      "outputs": []
    },
    {
      "cell_type": "code",
      "source": [
        "?map"
      ],
      "metadata": {
        "id": "cn8_jLvnQVjr"
      },
      "execution_count": null,
      "outputs": []
    },
    {
      "cell_type": "code",
      "source": [
        "tuple(map(str,int(input()).split( )))"
      ],
      "metadata": {
        "id": "Ml3Vg1BrQrpr"
      },
      "execution_count": null,
      "outputs": []
    },
    {
      "cell_type": "code",
      "source": [
        "set(map(int,input().split( )))"
      ],
      "metadata": {
        "id": "x8CA_bynROeK"
      },
      "execution_count": null,
      "outputs": []
    },
    {
      "cell_type": "code",
      "source": [],
      "metadata": {
        "id": "Fw4UasVYR9B0"
      },
      "execution_count": null,
      "outputs": []
    }
  ]
}